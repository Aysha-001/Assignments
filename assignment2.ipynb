{
 "cells": [
  {
   "cell_type": "markdown",
   "id": "9750d986-b3a7-416b-abaa-09f544dfcd65",
   "metadata": {},
   "source": [
    "# Case Study: Data Preprocessing on Loan Approval Dataset"
   ]
  },
  {
   "cell_type": "markdown",
   "id": "b47a45be-3cc8-4527-bf9f-263c9992e04f",
   "metadata": {},
   "source": [
    "## 1. Objective\n",
    "* The objective of this case study is to prepare the Loan Approval dataset for machine learning by performing data cleaning, imputation, categorical encoding, and feature scaling. This ensures that the dataset is ready for building robust predictive models."
   ]
  },
  {
   "cell_type": "markdown",
   "id": "f5fffc53-fbb6-4a1a-a132-681156d04a68",
   "metadata": {},
   "source": [
    "## 2. Dataset Description\n",
    "\n",
    "* Source: train_loan.csv\n",
    "\n",
    "* Features: Includes both numerical and categorical variables like Gender, Married, ApplicantIncome, Credit_History, etc.\n",
    "\n",
    "* Target variable: (Assumed for later modeling) Loan_Status\n",
    "\n",
    "* Size: Checked via df.info()\n",
    "\n",
    "* Initial Steps: Loaded using pandas, basic info and null checks performed using df.info(), df.describe(), and df.isnull().sum()"
   ]
  },
  {
   "cell_type": "markdown",
   "id": "8b13d2c7-1a24-4b6c-a936-d7fec92e809d",
   "metadata": {},
   "source": [
    "## 3. Methodology\n",
    "\n",
    "The following preprocessing steps were performed:\n",
    "\n",
    "* Handling missing values through imputation\n",
    "\n",
    "* Outlier Detection\n",
    "\n",
    "* Categorical encoding\n",
    "\n",
    "* Feature Transformation and scaling"
   ]
  },
  {
   "cell_type": "code",
   "execution_count": 1,
   "id": "86c84166-6a39-4249-a7ea-efca97797439",
   "metadata": {
    "tags": []
   },
   "outputs": [],
   "source": [
    "# importing necessary libraries \n",
    "\n",
    "import numpy as np\n",
    "import pandas as pd\n",
    "import matplotlib.pyplot as plt\n",
    "import seaborn as sns"
   ]
  },
  {
   "cell_type": "markdown",
   "id": "e370be2b-7b19-4122-b21a-1881526036d7",
   "metadata": {},
   "source": [
    "### Reading the Dataset"
   ]
  },
  {
   "cell_type": "code",
   "execution_count": 2,
   "id": "7dfd6c68-5d65-4dc7-872f-8c5331e412e6",
   "metadata": {
    "tags": []
   },
   "outputs": [
    {
     "data": {
      "text/html": [
       "<div>\n",
       "<style scoped>\n",
       "    .dataframe tbody tr th:only-of-type {\n",
       "        vertical-align: middle;\n",
       "    }\n",
       "\n",
       "    .dataframe tbody tr th {\n",
       "        vertical-align: top;\n",
       "    }\n",
       "\n",
       "    .dataframe thead th {\n",
       "        text-align: right;\n",
       "    }\n",
       "</style>\n",
       "<table border=\"1\" class=\"dataframe\">\n",
       "  <thead>\n",
       "    <tr style=\"text-align: right;\">\n",
       "      <th></th>\n",
       "      <th>Loan_ID</th>\n",
       "      <th>Gender</th>\n",
       "      <th>Married</th>\n",
       "      <th>Dependents</th>\n",
       "      <th>Education</th>\n",
       "      <th>Self_Employed</th>\n",
       "      <th>ApplicantIncome</th>\n",
       "      <th>CoapplicantIncome</th>\n",
       "      <th>LoanAmount</th>\n",
       "      <th>Loan_Amount_Term</th>\n",
       "      <th>Credit_History</th>\n",
       "      <th>Property_Area</th>\n",
       "      <th>Loan_Status</th>\n",
       "    </tr>\n",
       "  </thead>\n",
       "  <tbody>\n",
       "    <tr>\n",
       "      <th>0</th>\n",
       "      <td>LP001002</td>\n",
       "      <td>Male</td>\n",
       "      <td>No</td>\n",
       "      <td>0</td>\n",
       "      <td>Graduate</td>\n",
       "      <td>No</td>\n",
       "      <td>5849</td>\n",
       "      <td>0.0</td>\n",
       "      <td>NaN</td>\n",
       "      <td>360.0</td>\n",
       "      <td>1.0</td>\n",
       "      <td>Urban</td>\n",
       "      <td>Y</td>\n",
       "    </tr>\n",
       "    <tr>\n",
       "      <th>1</th>\n",
       "      <td>LP001003</td>\n",
       "      <td>Male</td>\n",
       "      <td>Yes</td>\n",
       "      <td>1</td>\n",
       "      <td>Graduate</td>\n",
       "      <td>No</td>\n",
       "      <td>4583</td>\n",
       "      <td>1508.0</td>\n",
       "      <td>128.0</td>\n",
       "      <td>360.0</td>\n",
       "      <td>1.0</td>\n",
       "      <td>Rural</td>\n",
       "      <td>N</td>\n",
       "    </tr>\n",
       "    <tr>\n",
       "      <th>2</th>\n",
       "      <td>LP001005</td>\n",
       "      <td>Male</td>\n",
       "      <td>Yes</td>\n",
       "      <td>0</td>\n",
       "      <td>Graduate</td>\n",
       "      <td>Yes</td>\n",
       "      <td>3000</td>\n",
       "      <td>0.0</td>\n",
       "      <td>66.0</td>\n",
       "      <td>360.0</td>\n",
       "      <td>1.0</td>\n",
       "      <td>Urban</td>\n",
       "      <td>Y</td>\n",
       "    </tr>\n",
       "    <tr>\n",
       "      <th>3</th>\n",
       "      <td>LP001006</td>\n",
       "      <td>Male</td>\n",
       "      <td>Yes</td>\n",
       "      <td>0</td>\n",
       "      <td>Not Graduate</td>\n",
       "      <td>No</td>\n",
       "      <td>2583</td>\n",
       "      <td>2358.0</td>\n",
       "      <td>120.0</td>\n",
       "      <td>360.0</td>\n",
       "      <td>1.0</td>\n",
       "      <td>Urban</td>\n",
       "      <td>Y</td>\n",
       "    </tr>\n",
       "    <tr>\n",
       "      <th>4</th>\n",
       "      <td>LP001008</td>\n",
       "      <td>Male</td>\n",
       "      <td>No</td>\n",
       "      <td>0</td>\n",
       "      <td>Graduate</td>\n",
       "      <td>No</td>\n",
       "      <td>6000</td>\n",
       "      <td>0.0</td>\n",
       "      <td>141.0</td>\n",
       "      <td>360.0</td>\n",
       "      <td>1.0</td>\n",
       "      <td>Urban</td>\n",
       "      <td>Y</td>\n",
       "    </tr>\n",
       "  </tbody>\n",
       "</table>\n",
       "</div>"
      ],
      "text/plain": [
       "    Loan_ID Gender Married Dependents     Education Self_Employed  \\\n",
       "0  LP001002   Male      No          0      Graduate            No   \n",
       "1  LP001003   Male     Yes          1      Graduate            No   \n",
       "2  LP001005   Male     Yes          0      Graduate           Yes   \n",
       "3  LP001006   Male     Yes          0  Not Graduate            No   \n",
       "4  LP001008   Male      No          0      Graduate            No   \n",
       "\n",
       "   ApplicantIncome  CoapplicantIncome  LoanAmount  Loan_Amount_Term  \\\n",
       "0             5849                0.0         NaN             360.0   \n",
       "1             4583             1508.0       128.0             360.0   \n",
       "2             3000                0.0        66.0             360.0   \n",
       "3             2583             2358.0       120.0             360.0   \n",
       "4             6000                0.0       141.0             360.0   \n",
       "\n",
       "   Credit_History Property_Area Loan_Status  \n",
       "0             1.0         Urban           Y  \n",
       "1             1.0         Rural           N  \n",
       "2             1.0         Urban           Y  \n",
       "3             1.0         Urban           Y  \n",
       "4             1.0         Urban           Y  "
      ]
     },
     "execution_count": 2,
     "metadata": {},
     "output_type": "execute_result"
    }
   ],
   "source": [
    "df = pd.read_csv('train_loan.csv')\n",
    "df.head()"
   ]
  },
  {
   "cell_type": "markdown",
   "id": "2e5b5643-f184-4eaa-a0d2-e7008b6ccfce",
   "metadata": {},
   "source": [
    "### Gathering basic info"
   ]
  },
  {
   "cell_type": "code",
   "execution_count": 3,
   "id": "467f90c8-a8f1-41e6-af9e-0cd0ec2df889",
   "metadata": {
    "tags": []
   },
   "outputs": [
    {
     "data": {
      "text/plain": [
       "Index(['Loan_ID', 'Gender', 'Married', 'Dependents', 'Education',\n",
       "       'Self_Employed', 'ApplicantIncome', 'CoapplicantIncome', 'LoanAmount',\n",
       "       'Loan_Amount_Term', 'Credit_History', 'Property_Area', 'Loan_Status'],\n",
       "      dtype='object')"
      ]
     },
     "execution_count": 3,
     "metadata": {},
     "output_type": "execute_result"
    }
   ],
   "source": [
    "df.columns"
   ]
  },
  {
   "cell_type": "code",
   "execution_count": 4,
   "id": "ae7df65d-54de-473b-b7b7-500365abf7d3",
   "metadata": {
    "tags": []
   },
   "outputs": [
    {
     "name": "stdout",
     "output_type": "stream",
     "text": [
      "<class 'pandas.core.frame.DataFrame'>\n",
      "RangeIndex: 614 entries, 0 to 613\n",
      "Data columns (total 13 columns):\n",
      " #   Column             Non-Null Count  Dtype  \n",
      "---  ------             --------------  -----  \n",
      " 0   Loan_ID            614 non-null    object \n",
      " 1   Gender             601 non-null    object \n",
      " 2   Married            611 non-null    object \n",
      " 3   Dependents         599 non-null    object \n",
      " 4   Education          614 non-null    object \n",
      " 5   Self_Employed      582 non-null    object \n",
      " 6   ApplicantIncome    614 non-null    int64  \n",
      " 7   CoapplicantIncome  614 non-null    float64\n",
      " 8   LoanAmount         592 non-null    float64\n",
      " 9   Loan_Amount_Term   600 non-null    float64\n",
      " 10  Credit_History     564 non-null    float64\n",
      " 11  Property_Area      614 non-null    object \n",
      " 12  Loan_Status        614 non-null    object \n",
      "dtypes: float64(4), int64(1), object(8)\n",
      "memory usage: 62.5+ KB\n"
     ]
    }
   ],
   "source": [
    "df.info()\n",
    "#df.shape"
   ]
  },
  {
   "cell_type": "code",
   "execution_count": 5,
   "id": "fe3ae78a-9677-466d-9769-24a9874a2350",
   "metadata": {
    "tags": []
   },
   "outputs": [
    {
     "data": {
      "text/plain": [
       "Loan_ID               0\n",
       "Gender               13\n",
       "Married               3\n",
       "Dependents           15\n",
       "Education             0\n",
       "Self_Employed        32\n",
       "ApplicantIncome       0\n",
       "CoapplicantIncome     0\n",
       "LoanAmount           22\n",
       "Loan_Amount_Term     14\n",
       "Credit_History       50\n",
       "Property_Area         0\n",
       "Loan_Status           0\n",
       "dtype: int64"
      ]
     },
     "execution_count": 5,
     "metadata": {},
     "output_type": "execute_result"
    }
   ],
   "source": [
    "# checking for null values\n",
    "df.isnull().sum()"
   ]
  },
  {
   "cell_type": "code",
   "execution_count": 6,
   "id": "2f29ea4a-5f3a-490e-aa98-0c09dd5b8fd8",
   "metadata": {
    "tags": []
   },
   "outputs": [
    {
     "data": {
      "text/html": [
       "<div>\n",
       "<style scoped>\n",
       "    .dataframe tbody tr th:only-of-type {\n",
       "        vertical-align: middle;\n",
       "    }\n",
       "\n",
       "    .dataframe tbody tr th {\n",
       "        vertical-align: top;\n",
       "    }\n",
       "\n",
       "    .dataframe thead th {\n",
       "        text-align: right;\n",
       "    }\n",
       "</style>\n",
       "<table border=\"1\" class=\"dataframe\">\n",
       "  <thead>\n",
       "    <tr style=\"text-align: right;\">\n",
       "      <th></th>\n",
       "      <th>ApplicantIncome</th>\n",
       "      <th>CoapplicantIncome</th>\n",
       "      <th>LoanAmount</th>\n",
       "      <th>Loan_Amount_Term</th>\n",
       "      <th>Credit_History</th>\n",
       "    </tr>\n",
       "  </thead>\n",
       "  <tbody>\n",
       "    <tr>\n",
       "      <th>count</th>\n",
       "      <td>614.000000</td>\n",
       "      <td>614.000000</td>\n",
       "      <td>592.000000</td>\n",
       "      <td>600.00000</td>\n",
       "      <td>564.000000</td>\n",
       "    </tr>\n",
       "    <tr>\n",
       "      <th>mean</th>\n",
       "      <td>5403.459283</td>\n",
       "      <td>1621.245798</td>\n",
       "      <td>146.412162</td>\n",
       "      <td>342.00000</td>\n",
       "      <td>0.842199</td>\n",
       "    </tr>\n",
       "    <tr>\n",
       "      <th>std</th>\n",
       "      <td>6109.041673</td>\n",
       "      <td>2926.248369</td>\n",
       "      <td>85.587325</td>\n",
       "      <td>65.12041</td>\n",
       "      <td>0.364878</td>\n",
       "    </tr>\n",
       "    <tr>\n",
       "      <th>min</th>\n",
       "      <td>150.000000</td>\n",
       "      <td>0.000000</td>\n",
       "      <td>9.000000</td>\n",
       "      <td>12.00000</td>\n",
       "      <td>0.000000</td>\n",
       "    </tr>\n",
       "    <tr>\n",
       "      <th>25%</th>\n",
       "      <td>2877.500000</td>\n",
       "      <td>0.000000</td>\n",
       "      <td>100.000000</td>\n",
       "      <td>360.00000</td>\n",
       "      <td>1.000000</td>\n",
       "    </tr>\n",
       "    <tr>\n",
       "      <th>50%</th>\n",
       "      <td>3812.500000</td>\n",
       "      <td>1188.500000</td>\n",
       "      <td>128.000000</td>\n",
       "      <td>360.00000</td>\n",
       "      <td>1.000000</td>\n",
       "    </tr>\n",
       "    <tr>\n",
       "      <th>75%</th>\n",
       "      <td>5795.000000</td>\n",
       "      <td>2297.250000</td>\n",
       "      <td>168.000000</td>\n",
       "      <td>360.00000</td>\n",
       "      <td>1.000000</td>\n",
       "    </tr>\n",
       "    <tr>\n",
       "      <th>max</th>\n",
       "      <td>81000.000000</td>\n",
       "      <td>41667.000000</td>\n",
       "      <td>700.000000</td>\n",
       "      <td>480.00000</td>\n",
       "      <td>1.000000</td>\n",
       "    </tr>\n",
       "  </tbody>\n",
       "</table>\n",
       "</div>"
      ],
      "text/plain": [
       "       ApplicantIncome  CoapplicantIncome  LoanAmount  Loan_Amount_Term  \\\n",
       "count       614.000000         614.000000  592.000000         600.00000   \n",
       "mean       5403.459283        1621.245798  146.412162         342.00000   \n",
       "std        6109.041673        2926.248369   85.587325          65.12041   \n",
       "min         150.000000           0.000000    9.000000          12.00000   \n",
       "25%        2877.500000           0.000000  100.000000         360.00000   \n",
       "50%        3812.500000        1188.500000  128.000000         360.00000   \n",
       "75%        5795.000000        2297.250000  168.000000         360.00000   \n",
       "max       81000.000000       41667.000000  700.000000         480.00000   \n",
       "\n",
       "       Credit_History  \n",
       "count      564.000000  \n",
       "mean         0.842199  \n",
       "std          0.364878  \n",
       "min          0.000000  \n",
       "25%          1.000000  \n",
       "50%          1.000000  \n",
       "75%          1.000000  \n",
       "max          1.000000  "
      ]
     },
     "execution_count": 6,
     "metadata": {},
     "output_type": "execute_result"
    }
   ],
   "source": [
    "#getting statistical description\n",
    "df.describe()"
   ]
  },
  {
   "cell_type": "code",
   "execution_count": 7,
   "id": "5d8565c5-7d05-4a44-b4b4-270cd4444686",
   "metadata": {
    "tags": []
   },
   "outputs": [
    {
     "data": {
      "text/plain": [
       "0"
      ]
     },
     "execution_count": 7,
     "metadata": {},
     "output_type": "execute_result"
    }
   ],
   "source": [
    "#checking for duplicates\n",
    "df.duplicated().sum()"
   ]
  },
  {
   "cell_type": "markdown",
   "id": "72074b26-5c4c-4b96-bb79-6c84a9383995",
   "metadata": {},
   "source": [
    "## 1 . Handling Missing Values and Performing Imputation"
   ]
  },
  {
   "cell_type": "markdown",
   "id": "e1b2d0a2-6f5f-42b1-a255-040483d2be46",
   "metadata": {},
   "source": [
    "### 1. Gender Column"
   ]
  },
  {
   "cell_type": "markdown",
   "id": "21f1a496-12cc-4cc4-8add-a4a4693ff327",
   "metadata": {},
   "source": [
    "**Type:** Categorical\n",
    "\n",
    "**Missing values:** 2%\n",
    "\n",
    "**Imputation method used:** Mode\n",
    "\n",
    "**Reason:** Mode imputation is suitable for categorical features as it replaces missing values with the most frequent category, preserving the distribution of the existing data."
   ]
  },
  {
   "cell_type": "code",
   "execution_count": 8,
   "id": "a2b22f15-336b-4116-ad4e-6fb732b149d4",
   "metadata": {
    "tags": []
   },
   "outputs": [
    {
     "data": {
      "image/png": "[encoded data removed]",
      "text/plain": [
       "<Figure size 500x500 with 1 Axes>"
      ]
     },
     "metadata": {},
     "output_type": "display_data"
    }
   ],
   "source": [
    "# Analyzing the data \n",
    "plt.figure(figsize=(5,5))\n",
    "sns.countplot(x='Gender', data=df)\n",
    "plt.show()"
   ]
  },
  {
   "cell_type": "code",
   "execution_count": 9,
   "id": "9887ef2c-6131-41f8-9fb8-1d3eaa12083e",
   "metadata": {
    "tags": []
   },
   "outputs": [
    {
     "data": {
      "text/plain": [
       "<Axes: xlabel='Gender', ylabel='count'>"
      ]
     },
     "execution_count": 9,
     "metadata": {},
     "output_type": "execute_result"
    },
    {
     "data": {
      "image/png": "[encoded data removed]",
      "text/plain": [
       "<Figure size 640x480 with 1 Axes>"
      ]
     },
     "metadata": {},
     "output_type": "display_data"
    }
   ],
   "source": [
    "#analysing the relationship between data\n",
    "sns.countplot(x='Gender', hue='Loan_Status', data=df)"
   ]
  },
  {
   "cell_type": "code",
   "execution_count": 10,
   "id": "71e8e33e-d62c-4bae-b825-08cefad100dc",
   "metadata": {
    "tags": []
   },
   "outputs": [
    {
     "data": {
      "text/plain": [
       "0"
      ]
     },
     "execution_count": 10,
     "metadata": {},
     "output_type": "execute_result"
    }
   ],
   "source": [
    "# this is a categorical data, also the missing values account for around 2%, \n",
    "# so to prefer simple imputation method would be more preferable rather than going for advanced \n",
    "# imputation methods\n",
    "gender_mode = df['Gender'].mode()[0]\n",
    "df['Gender'] = df['Gender'].fillna(gender_mode)\n",
    "df['Gender'].isna().sum()"
   ]
  },
  {
   "cell_type": "markdown",
   "id": "fa032829-72a9-4cce-a828-36b53f53045d",
   "metadata": {},
   "source": [
    "### 2. Column - Married"
   ]
  },
  {
   "cell_type": "markdown",
   "id": "885a56fc-05c7-4bb2-b3ac-d76373abb5e9",
   "metadata": {},
   "source": [
    "**Type:** Categorical\n",
    "\n",
    "**Missing values:**  0.4%\n",
    "\n",
    "**Imputation method used:** Mode\n",
    "\n",
    "**Reason:** Mode imputation is suitable for categorical features as it replaces missing values with the most frequent category, preserving the distribution of the existing data."
   ]
  },
  {
   "cell_type": "code",
   "execution_count": 11,
   "id": "576748aa-8027-4557-b01b-c62b0a9a7877",
   "metadata": {
    "tags": []
   },
   "outputs": [
    {
     "data": {
      "image/png": "[encoded data removed]",
      "text/plain": [
       "<Figure size 500x500 with 1 Axes>"
      ]
     },
     "metadata": {},
     "output_type": "display_data"
    }
   ],
   "source": [
    "# Analysing the data\n",
    "plt.figure(figsize=(5,5))\n",
    "sns.countplot(x=\"Married\", data=df)\n",
    "plt.show()"
   ]
  },
  {
   "cell_type": "code",
   "execution_count": 12,
   "id": "40cebfae-aa04-442f-b0fb-81be0f247691",
   "metadata": {
    "tags": []
   },
   "outputs": [
    {
     "data": {
      "text/plain": [
       "<Axes: xlabel='Married', ylabel='count'>"
      ]
     },
     "execution_count": 12,
     "metadata": {},
     "output_type": "execute_result"
    },
    {
     "data": {
      "image/png": "[encoded data removed]",
      "text/plain": [
       "<Figure size 640x480 with 1 Axes>"
      ]
     },
     "metadata": {},
     "output_type": "display_data"
    }
   ],
   "source": [
    "#Analysing the relationship between data\n",
    "sns.countplot(x='Married', hue='Loan_Status', data=df)"
   ]
  },
  {
   "cell_type": "code",
   "execution_count": 13,
   "id": "d9b265cd-fb91-4e72-992a-fbb74f3ef3e6",
   "metadata": {
    "tags": []
   },
   "outputs": [
    {
     "data": {
      "text/plain": [
       "0"
      ]
     },
     "execution_count": 13,
     "metadata": {},
     "output_type": "execute_result"
    }
   ],
   "source": [
    "# this is a categorical data and the missing data coount for around 0.4%, which isnt much a problem. \n",
    "# Imputing with mode\n",
    "\n",
    "married_mode = df['Married'].mode()[0]\n",
    "df['Married'] = df['Married'].fillna(married_mode)\n",
    "df[\"Married\"].isna().sum()"
   ]
  },
  {
   "cell_type": "markdown",
   "id": "aa2aa26e-13df-406a-8ab3-1e503422e5e1",
   "metadata": {},
   "source": [
    "### 3. Column - Dependents"
   ]
  },
  {
   "cell_type": "markdown",
   "id": "15d5c379-023e-484c-a034-85f754f9bf5e",
   "metadata": {},
   "source": [
    "**Dependent Column Values:** 0, 1, 2, 3+\n",
    "\n",
    "**Transformation:** Values of 3+ were replaced with 3.\n",
    "\n",
    "**Reason for Transformation:** This is the best approach for ordinal data, as it preserves the order while handling the upper limit.\n",
    "\n",
    "**Missing Values:** 2.4%\n",
    "\n",
    "**Imputation Method:** Mode\n",
    "\n",
    "**Feature Type:** Categorical\n",
    "\n",
    "**Reason for Imputation:** Mode imputation is suitable for categorical features as it replaces missing values with the most frequent category, preserving the distribution of the existing data."
   ]
  },
  {
   "cell_type": "code",
   "execution_count": 14,
   "id": "aa0b1523-3614-4e47-87f8-a56d3cf209e1",
   "metadata": {
    "tags": []
   },
   "outputs": [
    {
     "data": {
      "text/plain": [
       "Dependents\n",
       "0     345\n",
       "1     102\n",
       "2     101\n",
       "3+     51\n",
       "Name: count, dtype: int64"
      ]
     },
     "execution_count": 14,
     "metadata": {},
     "output_type": "execute_result"
    }
   ],
   "source": [
    "# Analysing the data\n",
    "df['Dependents'].value_counts()"
   ]
  },
  {
   "cell_type": "code",
   "execution_count": 15,
   "id": "8e1dda7a-fec8-4fa2-9e50-a3e34fce89ed",
   "metadata": {
    "tags": []
   },
   "outputs": [
    {
     "data": {
      "text/plain": [
       "<Axes: xlabel='Dependents', ylabel='count'>"
      ]
     },
     "execution_count": 15,
     "metadata": {},
     "output_type": "execute_result"
    },
    {
     "data": {
      "image/png": "[encoded data removed]",
      "text/plain": [
       "<Figure size 640x480 with 1 Axes>"
      ]
     },
     "metadata": {},
     "output_type": "display_data"
    }
   ],
   "source": [
    "sns.countplot(x='Dependents' , data=df)"
   ]
  },
  {
   "cell_type": "code",
   "execution_count": 16,
   "id": "89e44711-a1f5-45c0-be5f-c27a2b59302e",
   "metadata": {
    "tags": []
   },
   "outputs": [
    {
     "data": {
      "text/plain": [
       "<Axes: xlabel='Dependents', ylabel='count'>"
      ]
     },
     "execution_count": 16,
     "metadata": {},
     "output_type": "execute_result"
    },
    {
     "data": {
      "image/png": "[encoded data removed]",
      "text/plain": [
       "<Figure size 640x480 with 1 Axes>"
      ]
     },
     "metadata": {},
     "output_type": "display_data"
    }
   ],
   "source": [
    "#Analysing relationship between data\n",
    "sns.countplot(x='Dependents', hue='Loan_Status', data=df)"
   ]
  },
  {
   "cell_type": "code",
   "execution_count": 17,
   "id": "8726aebf-6604-4bd2-8dcb-9687cf2da954",
   "metadata": {},
   "outputs": [],
   "source": [
    "# for the values that coount for 3+ replacing it with 3 is the best approach since its ordinal data\n",
    "# missing filling values with mode, 2.4% missing data, categorical\n",
    "df['Dependents'] = df['Dependents'].replace('3+', '3')\n",
    "#convert to integer\n",
    "df['Dependents'] = pd.to_numeric(df['Dependents'] , errors='coerce').astype('Int64')\n",
    "# fill in the missing value with mode\n",
    "\n",
    "mode_dependents = df['Dependents'].mode()[0]\n",
    "df['Dependents'] = df['Dependents'].fillna(mode_dependents)"
   ]
  },
  {
   "cell_type": "markdown",
   "id": "c1af4648-1742-47df-b658-0df5e0a5691d",
   "metadata": {},
   "source": [
    "### 4 . Column - Self-Employed"
   ]
  },
  {
   "cell_type": "markdown",
   "id": "50401185-de7f-4f6e-966b-8b0c198a7a81",
   "metadata": {
    "tags": []
   },
   "source": [
    "**Type:** Categorical\n",
    "\n",
    "**Missing values:**  5.2%\n",
    "\n",
    "**Imputation method used:** Mode\n",
    "\n",
    "**Reason:** Mode imputation is suitable for categorical features as it replaces missing values with the most frequent category, preserving the distribution of the existing data."
   ]
  },
  {
   "cell_type": "code",
   "execution_count": 18,
   "id": "4ae149c1-4fad-4183-8cda-08b9806bacab",
   "metadata": {
    "tags": []
   },
   "outputs": [
    {
     "data": {
      "text/plain": [
       "Self_Employed\n",
       "No     500\n",
       "Yes     82\n",
       "Name: count, dtype: int64"
      ]
     },
     "execution_count": 18,
     "metadata": {},
     "output_type": "execute_result"
    }
   ],
   "source": [
    "df['Self_Employed'].value_counts()"
   ]
  },
  {
   "cell_type": "code",
   "execution_count": 19,
   "id": "0f69a6e6-ef7a-435a-b479-99d61e7fc1e2",
   "metadata": {
    "tags": []
   },
   "outputs": [
    {
     "data": {
      "text/plain": [
       "<Axes: xlabel='Self_Employed', ylabel='count'>"
      ]
     },
     "execution_count": 19,
     "metadata": {},
     "output_type": "execute_result"
    },
    {
     "data": {
      "image/png": "[encoded data removed]",
      "text/plain": [
       "<Figure size 640x480 with 1 Axes>"
      ]
     },
     "metadata": {},
     "output_type": "display_data"
    }
   ],
   "source": [
    "#Analysing the relationship between data\n",
    "sns.countplot(x='Self_Employed', hue='Loan_Status', data=df)"
   ]
  },
  {
   "cell_type": "code",
   "execution_count": 20,
   "id": "e3dffd0e-a1b2-458a-bfd8-cedcf0dfec4b",
   "metadata": {
    "tags": []
   },
   "outputs": [],
   "source": [
    "#categorical, missing - 5.2%, filling in with mode\n",
    "mode_selfEmployed = df['Self_Employed'].mode()[0]\n",
    "df['Self_Employed'] = df['Self_Employed'].fillna(mode_selfEmployed)"
   ]
  },
  {
   "cell_type": "markdown",
   "id": "c81a83f9-9045-4b8a-b264-fda3df923888",
   "metadata": {},
   "source": [
    "### 5. Column - Loan Amount"
   ]
  },
  {
   "cell_type": "markdown",
   "id": "c7da88ba-e6ed-4e18-96cc-3f5612bfeb92",
   "metadata": {},
   "source": [
    "**Type:** Numerical\n",
    "\n",
    "**Missing values:** 3.5%\n",
    "\n",
    "**Skewness:** 2.67 (Right Skewed)\n",
    "\n",
    "**Imputation method used:** Median\n",
    "\n",
    "**Reason:** For numerical features with significant skewness, the median is a more robust measure of central tendency than the mean. It is less affected by extreme values, thus providing a more representative imputation for right-skewed data."
   ]
  },
  {
   "cell_type": "code",
   "execution_count": 21,
   "id": "11932365-79bf-40f7-90d9-35378b1abcd6",
   "metadata": {
    "tags": []
   },
   "outputs": [
    {
     "data": {
      "text/plain": [
       "22"
      ]
     },
     "execution_count": 21,
     "metadata": {},
     "output_type": "execute_result"
    }
   ],
   "source": [
    "#numerical column - missing - 3.5% - high positive skewness, using median for imputation\n",
    "df['LoanAmount'].isna().sum()"
   ]
  },
  {
   "cell_type": "code",
   "execution_count": 22,
   "id": "cb2a101c-7f29-47b5-86de-1349b1ed0e42",
   "metadata": {
    "tags": []
   },
   "outputs": [
    {
     "data": {
      "text/plain": [
       "<Axes: xlabel='LoanAmount', ylabel='Count'>"
      ]
     },
     "execution_count": 22,
     "metadata": {},
     "output_type": "execute_result"
    },
    {
     "data": {
      "image/png": "[encoded data removed]",
      "text/plain": [
       "<Figure size 640x480 with 1 Axes>"
      ]
     },
     "metadata": {},
     "output_type": "display_data"
    }
   ],
   "source": [
    "sns.histplot(x='LoanAmount', data=df, kde=True)"
   ]
  },
  {
   "cell_type": "code",
   "execution_count": 23,
   "id": "b408c7ad-424e-4e35-ad1e-97213ecf32ba",
   "metadata": {
    "tags": []
   },
   "outputs": [
    {
     "data": {
      "text/plain": [
       "2.677551679256059"
      ]
     },
     "execution_count": 23,
     "metadata": {},
     "output_type": "execute_result"
    }
   ],
   "source": [
    "df['LoanAmount'].skew()"
   ]
  },
  {
   "cell_type": "code",
   "execution_count": 24,
   "id": "da3f612a-f11f-47cf-be43-edf127eddc4e",
   "metadata": {
    "tags": []
   },
   "outputs": [],
   "source": [
    "med_LoanAmount = df['LoanAmount'].median()\n",
    "df['LoanAmount'] = df['LoanAmount'].fillna(med_LoanAmount)"
   ]
  },
  {
   "cell_type": "markdown",
   "id": "24ac1b6e-6c9e-4d4a-b75f-45b42cd3fc9c",
   "metadata": {
    "tags": []
   },
   "source": [
    "### 4. Column - Loan Amount Term"
   ]
  },
  {
   "cell_type": "markdown",
   "id": "7d2c0916-d5f9-4c2a-a078-0be188fd2238",
   "metadata": {},
   "source": [
    "**Type:** Categorical\n",
    "\n",
    "**Missing values:** 2.2%\n",
    "\n",
    "**Imputation method used:** Mode\n",
    "\n",
    "**Reason:** Mode imputation is suitable for categorical features as it replaces missing values with the most frequent category, preserving the distribution of the existing data."
   ]
  },
  {
   "cell_type": "code",
   "execution_count": 25,
   "id": "104f5e61-433e-4ea4-8726-83f3df01d567",
   "metadata": {
    "tags": []
   },
   "outputs": [
    {
     "data": {
      "text/plain": [
       "<Axes: xlabel='Loan_Amount_Term', ylabel='count'>"
      ]
     },
     "execution_count": 25,
     "metadata": {},
     "output_type": "execute_result"
    },
    {
     "data": {
      "image/png": "[encoded data removed]",
      "text/plain": [
       "<Figure size 640x480 with 1 Axes>"
      ]
     },
     "metadata": {},
     "output_type": "display_data"
    }
   ],
   "source": [
    "sns.countplot(x='Loan_Amount_Term', data=df)"
   ]
  },
  {
   "cell_type": "code",
   "execution_count": 26,
   "id": "8e53aa81-9601-4b51-be7e-f098549f4f8b",
   "metadata": {
    "tags": []
   },
   "outputs": [
    {
     "data": {
      "text/plain": [
       "<Axes: xlabel='Loan_Amount_Term', ylabel='count'>"
      ]
     },
     "execution_count": 26,
     "metadata": {},
     "output_type": "execute_result"
    },
    {
     "data": {
      "image/png": "[encoded data removed]",
      "text/plain": [
       "<Figure size 640x480 with 1 Axes>"
      ]
     },
     "metadata": {},
     "output_type": "display_data"
    }
   ],
   "source": [
    "sns.countplot(x='Loan_Amount_Term', hue='Loan_Status', data=df)"
   ]
  },
  {
   "cell_type": "code",
   "execution_count": 27,
   "id": "1565030a-e54e-4b21-bc9c-26fbb5389d37",
   "metadata": {
    "tags": []
   },
   "outputs": [
    {
     "data": {
      "text/plain": [
       "Loan_Amount_Term\n",
       "360.0    512\n",
       "180.0     44\n",
       "480.0     15\n",
       "300.0     13\n",
       "240.0      4\n",
       "84.0       4\n",
       "120.0      3\n",
       "60.0       2\n",
       "36.0       2\n",
       "12.0       1\n",
       "Name: count, dtype: int64"
      ]
     },
     "execution_count": 27,
     "metadata": {},
     "output_type": "execute_result"
    }
   ],
   "source": [
    "#categorical data, missing value-2.2%, filling in with mode.\n",
    "\n",
    "df['Loan_Amount_Term'].value_counts()"
   ]
  },
  {
   "cell_type": "code",
   "execution_count": 28,
   "id": "490fc572-c837-4674-83c6-cd7f52600489",
   "metadata": {
    "tags": []
   },
   "outputs": [],
   "source": [
    "md_LAT = df['Loan_Amount_Term'].mode()[0]\n",
    "df['Loan_Amount_Term'] = df['Loan_Amount_Term'].fillna(md_LAT)"
   ]
  },
  {
   "cell_type": "markdown",
   "id": "fd57f6ef-7319-48bf-b193-7bbfb140784d",
   "metadata": {},
   "source": [
    "### 5. Column - Credit History "
   ]
  },
  {
   "cell_type": "markdown",
   "id": "2d386c6c-445a-4e32-9688-b75288beef7e",
   "metadata": {},
   "source": [
    "**Type:** Categorical\n",
    "\n",
    "**Missing values:** 8%\n",
    "\n",
    "**Imputation method used:** Mode\n",
    "\n",
    "**Reason:** Mode imputation is suitable for categorical features as it replaces missing values with the most frequent category, preserving the distribution of the existing data."
   ]
  },
  {
   "cell_type": "code",
   "execution_count": 29,
   "id": "94c77f52-5927-48d6-b914-13f7225aa466",
   "metadata": {
    "tags": []
   },
   "outputs": [
    {
     "data": {
      "text/plain": [
       "Loan_Status\n",
       "Y    37\n",
       "N    13\n",
       "Name: count, dtype: int64"
      ]
     },
     "execution_count": 29,
     "metadata": {},
     "output_type": "execute_result"
    }
   ],
   "source": [
    "#categorical , missing vales are around 8%, can do mode or conditional imputation\n",
    "# why conditional - just because i found a pattern for the missingness with target variable, \n",
    "# found existing missing was not random\n",
    "df[df['Credit_History'].isnull()]['Loan_Status'].value_counts()"
   ]
  },
  {
   "cell_type": "code",
   "execution_count": 30,
   "id": "e8e8cb48-4264-476d-ba48-622b62e4569f",
   "metadata": {
    "tags": []
   },
   "outputs": [
    {
     "data": {
      "image/png": "[encoded data removed]",
      "text/plain": [
       "<Figure size 640x480 with 1 Axes>"
      ]
     },
     "metadata": {},
     "output_type": "display_data"
    }
   ],
   "source": [
    "#Analysing relationship between data\n",
    "approval_rate = df.groupby('Credit_History')['Loan_Status'].value_counts(normalize=True).unstack()\n",
    "\n",
    "# Plot\n",
    "approval_rate.plot(kind='bar', stacked=True, colormap='Set2')\n",
    "plt.title('Loan Approval Rate by Credit History')\n",
    "plt.ylabel('Proportion of Applicants')\n",
    "plt.xlabel('Credit History')\n",
    "plt.legend(title='Loan Status', loc='upper right')\n",
    "plt.show()"
   ]
  },
  {
   "cell_type": "code",
   "execution_count": 31,
   "id": "ad216526-5a68-42ab-9934-651d983f51bf",
   "metadata": {
    "tags": []
   },
   "outputs": [],
   "source": [
    "# conditional imputation\n",
    "#df.loc[(df['Credit_History'].isnull()) & (df['Loan_Status']==\"Y\"), 'Credit_History'] = 1.0\n",
    "#df.loc[(df['Credit_History'].isnull()) & (df['Loan_Status']==\"N\"), 'Credit_History'] = 0.0"
   ]
  },
  {
   "cell_type": "code",
   "execution_count": 32,
   "id": "bc2eca6e-b503-40a2-983d-9dd24ad0cf3c",
   "metadata": {
    "tags": []
   },
   "outputs": [],
   "source": [
    "#imputing with mode\n",
    "\n",
    "mode_creditHistory = df['Credit_History'].mode()[0]\n",
    "df['Credit_History'] = df['Credit_History'].fillna(mode_creditHistory)"
   ]
  },
  {
   "cell_type": "code",
   "execution_count": 33,
   "id": "61a9f135-6f70-4a00-b590-5625be381669",
   "metadata": {
    "tags": []
   },
   "outputs": [
    {
     "data": {
      "text/plain": [
       "Loan_ID              0\n",
       "Gender               0\n",
       "Married              0\n",
       "Dependents           0\n",
       "Education            0\n",
       "Self_Employed        0\n",
       "ApplicantIncome      0\n",
       "CoapplicantIncome    0\n",
       "LoanAmount           0\n",
       "Loan_Amount_Term     0\n",
       "Credit_History       0\n",
       "Property_Area        0\n",
       "Loan_Status          0\n",
       "dtype: int64"
      ]
     },
     "execution_count": 33,
     "metadata": {},
     "output_type": "execute_result"
    }
   ],
   "source": [
    "df.isna().sum()"
   ]
  },
  {
   "cell_type": "markdown",
   "id": "c0979af7-5a5c-4c52-97bb-1b40d54e657f",
   "metadata": {},
   "source": [
    "# Outlier Detection"
   ]
  },
  {
   "cell_type": "markdown",
   "id": "4db1ac6c-de91-47af-b292-4c36a507d8c9",
   "metadata": {},
   "source": [
    "### There are a couple of ways we can detect outliers, such as:\n",
    "\n",
    "* **Using visualization:**\n",
    "    * Boxplots\n",
    "    * Violin plots\n",
    "    * Histograms\n",
    "    * Scatter plots\n",
    "    * ( and much more )\n",
    "    \n",
    "\n",
    "* **Using calculations:**\n",
    "    * Percentile or IQR (Interquartile Range) range calculations \n",
    "    * Z-score - if data is normally distributed\n",
    "    \n",
    "* In our case - data is not normally distributed for either three columns (ApplicantIncome, CoapplicantIncome, LoanAmount), so IQR / percentile range calculation is choosen to detect outliers. \n",
    "\n",
    "2.  **Understand Cause:**\n",
    "    * Errors (fix if possible).\n",
    "    * Genuine (handle carefully).\n",
    "\n",
    "3.  **Treatment:**\n",
    "    * **Remove:** Simplify, but can lose info.\n",
    "    * **Transform:** Reduce impact (log, square root, Yeo-Johnson).\n",
    "    * **Cap:** Limit extreme values to a defined range, preserving data points.(Winsorization)\n",
    "    * **Impute:** Replace (mean, median) - can distort.\n",
    "    * **Keep:** Use robust models or flag.\n",
    "    "
   ]
  },
  {
   "cell_type": "code",
   "execution_count": 34,
   "id": "36107613-e83f-4057-80af-69f0d89c4d54",
   "metadata": {
    "tags": []
   },
   "outputs": [
    {
     "data": {
      "text/plain": [
       "ApplicantIncome         Axes(0.125,0.53;0.352273x0.35)\n",
       "CoapplicantIncome    Axes(0.547727,0.53;0.352273x0.35)\n",
       "LoanAmount              Axes(0.125,0.11;0.352273x0.35)\n",
       "dtype: object"
      ]
     },
     "execution_count": 34,
     "metadata": {},
     "output_type": "execute_result"
    },
    {
     "data": {
      "image/png": "[encoded data removed]",
      "text/plain": [
       "<Figure size 1000x800 with 4 Axes>"
      ]
     },
     "metadata": {},
     "output_type": "display_data"
    }
   ],
   "source": [
    "df[[\"ApplicantIncome\", \"CoapplicantIncome\", \"LoanAmount\"]].plot(kind='box', subplots=True, layout=(2, 2), figsize=(10, 8))"
   ]
  },
  {
   "cell_type": "markdown",
   "id": "34b8204b-fd6c-4146-9932-9dbbceb7faef",
   "metadata": {},
   "source": [
    "### ApplicantIncome"
   ]
  },
  {
   "cell_type": "code",
   "execution_count": 35,
   "id": "6b9e4034-767c-4066-860b-07b8f637fe59",
   "metadata": {
    "tags": []
   },
   "outputs": [
    {
     "data": {
      "text/plain": [
       "<Figure size 800x600 with 0 Axes>"
      ]
     },
     "metadata": {},
     "output_type": "display_data"
    },
    {
     "data": {
      "image/png": "[encoded data removed]",
      "text/plain": [
       "<Figure size 595.736x500 with 1 Axes>"
      ]
     },
     "metadata": {},
     "output_type": "display_data"
    }
   ],
   "source": [
    "plt.figure(figsize=(8,6))\n",
    "sns.displot(data=df, x='ApplicantIncome', hue='Loan_Status', kde=True)\n",
    "plt.title('Distribution of ApplicantIncome by Loan Status')\n",
    "plt.show()"
   ]
  },
  {
   "cell_type": "code",
   "execution_count": 36,
   "id": "25fe9fb6-910d-4054-b5be-1df0d8ecbe53",
   "metadata": {
    "tags": []
   },
   "outputs": [
    {
     "data": {
      "text/plain": [
       "<Axes: xlabel='ApplicantIncome', ylabel='Count'>"
      ]
     },
     "execution_count": 36,
     "metadata": {},
     "output_type": "execute_result"
    },
    {
     "data": {
      "image/png": "[encoded data removed]",
      "text/plain": [
       "<Figure size 640x480 with 1 Axes>"
      ]
     },
     "metadata": {},
     "output_type": "display_data"
    }
   ],
   "source": [
    "#doing IQR range calculation on Applicant Income to detect outliers\n",
    "\n",
    "Q1 = df['ApplicantIncome'].quantile(0.25)\n",
    "Q3 = df['ApplicantIncome'].quantile(0.75)\n",
    "IQR = Q3 - Q1\n",
    "lower_bound = Q1 - 1.5 * IQR\n",
    "upper_bound = Q3 + 1.5 * IQR\n",
    "\n",
    "#dataframe containing all outliers of applicant income\n",
    "outliers_iqr = df[(df['ApplicantIncome'] < lower_bound) | (df['ApplicantIncome'] > upper_bound)]\n",
    "\n",
    "\n",
    "#displaying outliers\n",
    "sns.histplot(x='ApplicantIncome', data=outliers_iqr)"
   ]
  },
  {
   "cell_type": "code",
   "execution_count": 37,
   "id": "a00715ac-7100-48f7-b78b-4a772b0f913f",
   "metadata": {},
   "outputs": [
    {
     "data": {
      "text/plain": [
       "' lower_threshold = df[\\'ApplicantIncome\\'].quantile(0.05)  # 0.1th percentile\\nupper_threshold = df[\\'ApplicantIncome\\'].quantile(0.95)  # 99.9th percentile\\n\\nprint(f\"0.1st percentile of ApplicantIncome: {lower_threshold_percentile}\")\\nprint(f\"98th percentile of ApplicantIncome: {upper_threshold_percentile}\")\\n\\n# Apply capping to \\'ApplicantIncome\\' using these percentiles\\ndf[\\'ApplicantIncome_Capped\\'] = df[\\'ApplicantIncome\\'].clip(lower=lower_threshold_percentile, upper=upper_threshold_percentile)\\n'"
      ]
     },
     "execution_count": 37,
     "metadata": {},
     "output_type": "execute_result"
    }
   ],
   "source": [
    "#capping example\n",
    "#calculating thresholds using percentile calculations\n",
    "''' lower_threshold = df['ApplicantIncome'].quantile(0.05)  # 0.1th percentile\n",
    "upper_threshold = df['ApplicantIncome'].quantile(0.95)  # 99.9th percentile\n",
    "\n",
    "print(f\"0.1st percentile of ApplicantIncome: {lower_threshold_percentile}\")\n",
    "print(f\"98th percentile of ApplicantIncome: {upper_threshold_percentile}\")\n",
    "\n",
    "# Apply capping to 'ApplicantIncome' using these percentiles\n",
    "df['ApplicantIncome_Capped'] = df['ApplicantIncome'].clip(lower=lower_threshold_percentile, upper=upper_threshold_percentile)\n",
    "'''"
   ]
  },
  {
   "cell_type": "markdown",
   "id": "9ffe02f9-49ca-4803-b33e-d1f308740bd2",
   "metadata": {
    "tags": []
   },
   "source": [
    "### Coapplicant Income"
   ]
  },
  {
   "cell_type": "code",
   "execution_count": 38,
   "id": "e36085dc-651c-418a-89af-78d20b14e029",
   "metadata": {
    "tags": []
   },
   "outputs": [
    {
     "data": {
      "text/plain": [
       "<Axes: xlabel='CoapplicantIncome', ylabel='Count'>"
      ]
     },
     "execution_count": 38,
     "metadata": {},
     "output_type": "execute_result"
    },
    {
     "data": {
      "image/png": "[encoded data removed]",
      "text/plain": [
       "<Figure size 640x480 with 1 Axes>"
      ]
     },
     "metadata": {},
     "output_type": "display_data"
    }
   ],
   "source": [
    "sns.histplot(x='CoapplicantIncome', data=df , kde=True)"
   ]
  },
  {
   "cell_type": "code",
   "execution_count": 39,
   "id": "95bb006c-8ae3-4b69-b5b2-ed014c4df1d8",
   "metadata": {
    "tags": []
   },
   "outputs": [
    {
     "data": {
      "text/html": [
       "<div>\n",
       "<style scoped>\n",
       "    .dataframe tbody tr th:only-of-type {\n",
       "        vertical-align: middle;\n",
       "    }\n",
       "\n",
       "    .dataframe tbody tr th {\n",
       "        vertical-align: top;\n",
       "    }\n",
       "\n",
       "    .dataframe thead th {\n",
       "        text-align: right;\n",
       "    }\n",
       "</style>\n",
       "<table border=\"1\" class=\"dataframe\">\n",
       "  <thead>\n",
       "    <tr style=\"text-align: right;\">\n",
       "      <th></th>\n",
       "      <th>Loan_ID</th>\n",
       "      <th>Gender</th>\n",
       "      <th>Married</th>\n",
       "      <th>Dependents</th>\n",
       "      <th>Education</th>\n",
       "      <th>Self_Employed</th>\n",
       "      <th>ApplicantIncome</th>\n",
       "      <th>CoapplicantIncome</th>\n",
       "      <th>LoanAmount</th>\n",
       "      <th>Loan_Amount_Term</th>\n",
       "      <th>Credit_History</th>\n",
       "      <th>Property_Area</th>\n",
       "      <th>Loan_Status</th>\n",
       "    </tr>\n",
       "  </thead>\n",
       "  <tbody>\n",
       "    <tr>\n",
       "      <th>9</th>\n",
       "      <td>LP001020</td>\n",
       "      <td>Male</td>\n",
       "      <td>Yes</td>\n",
       "      <td>1</td>\n",
       "      <td>Graduate</td>\n",
       "      <td>No</td>\n",
       "      <td>12841</td>\n",
       "      <td>10968.0</td>\n",
       "      <td>349.0</td>\n",
       "      <td>360.0</td>\n",
       "      <td>1.0</td>\n",
       "      <td>Semiurban</td>\n",
       "      <td>N</td>\n",
       "    </tr>\n",
       "    <tr>\n",
       "      <th>12</th>\n",
       "      <td>LP001028</td>\n",
       "      <td>Male</td>\n",
       "      <td>Yes</td>\n",
       "      <td>2</td>\n",
       "      <td>Graduate</td>\n",
       "      <td>No</td>\n",
       "      <td>3073</td>\n",
       "      <td>8106.0</td>\n",
       "      <td>200.0</td>\n",
       "      <td>360.0</td>\n",
       "      <td>1.0</td>\n",
       "      <td>Urban</td>\n",
       "      <td>Y</td>\n",
       "    </tr>\n",
       "    <tr>\n",
       "      <th>38</th>\n",
       "      <td>LP001114</td>\n",
       "      <td>Male</td>\n",
       "      <td>No</td>\n",
       "      <td>0</td>\n",
       "      <td>Graduate</td>\n",
       "      <td>No</td>\n",
       "      <td>4166</td>\n",
       "      <td>7210.0</td>\n",
       "      <td>184.0</td>\n",
       "      <td>360.0</td>\n",
       "      <td>1.0</td>\n",
       "      <td>Urban</td>\n",
       "      <td>Y</td>\n",
       "    </tr>\n",
       "    <tr>\n",
       "      <th>122</th>\n",
       "      <td>LP001431</td>\n",
       "      <td>Female</td>\n",
       "      <td>No</td>\n",
       "      <td>0</td>\n",
       "      <td>Graduate</td>\n",
       "      <td>No</td>\n",
       "      <td>2137</td>\n",
       "      <td>8980.0</td>\n",
       "      <td>137.0</td>\n",
       "      <td>360.0</td>\n",
       "      <td>0.0</td>\n",
       "      <td>Semiurban</td>\n",
       "      <td>Y</td>\n",
       "    </tr>\n",
       "    <tr>\n",
       "      <th>135</th>\n",
       "      <td>LP001488</td>\n",
       "      <td>Male</td>\n",
       "      <td>Yes</td>\n",
       "      <td>3</td>\n",
       "      <td>Graduate</td>\n",
       "      <td>No</td>\n",
       "      <td>4000</td>\n",
       "      <td>7750.0</td>\n",
       "      <td>290.0</td>\n",
       "      <td>360.0</td>\n",
       "      <td>1.0</td>\n",
       "      <td>Semiurban</td>\n",
       "      <td>N</td>\n",
       "    </tr>\n",
       "    <tr>\n",
       "      <th>177</th>\n",
       "      <td>LP001610</td>\n",
       "      <td>Male</td>\n",
       "      <td>Yes</td>\n",
       "      <td>3</td>\n",
       "      <td>Graduate</td>\n",
       "      <td>No</td>\n",
       "      <td>5516</td>\n",
       "      <td>11300.0</td>\n",
       "      <td>495.0</td>\n",
       "      <td>360.0</td>\n",
       "      <td>0.0</td>\n",
       "      <td>Semiurban</td>\n",
       "      <td>N</td>\n",
       "    </tr>\n",
       "    <tr>\n",
       "      <th>180</th>\n",
       "      <td>LP001633</td>\n",
       "      <td>Male</td>\n",
       "      <td>Yes</td>\n",
       "      <td>1</td>\n",
       "      <td>Graduate</td>\n",
       "      <td>No</td>\n",
       "      <td>6400</td>\n",
       "      <td>7250.0</td>\n",
       "      <td>180.0</td>\n",
       "      <td>360.0</td>\n",
       "      <td>0.0</td>\n",
       "      <td>Urban</td>\n",
       "      <td>N</td>\n",
       "    </tr>\n",
       "    <tr>\n",
       "      <th>253</th>\n",
       "      <td>LP001843</td>\n",
       "      <td>Male</td>\n",
       "      <td>Yes</td>\n",
       "      <td>1</td>\n",
       "      <td>Not Graduate</td>\n",
       "      <td>No</td>\n",
       "      <td>2661</td>\n",
       "      <td>7101.0</td>\n",
       "      <td>279.0</td>\n",
       "      <td>180.0</td>\n",
       "      <td>1.0</td>\n",
       "      <td>Semiurban</td>\n",
       "      <td>Y</td>\n",
       "    </tr>\n",
       "    <tr>\n",
       "      <th>349</th>\n",
       "      <td>LP002138</td>\n",
       "      <td>Male</td>\n",
       "      <td>Yes</td>\n",
       "      <td>0</td>\n",
       "      <td>Graduate</td>\n",
       "      <td>No</td>\n",
       "      <td>2625</td>\n",
       "      <td>6250.0</td>\n",
       "      <td>187.0</td>\n",
       "      <td>360.0</td>\n",
       "      <td>1.0</td>\n",
       "      <td>Rural</td>\n",
       "      <td>Y</td>\n",
       "    </tr>\n",
       "    <tr>\n",
       "      <th>372</th>\n",
       "      <td>LP002201</td>\n",
       "      <td>Male</td>\n",
       "      <td>Yes</td>\n",
       "      <td>2</td>\n",
       "      <td>Graduate</td>\n",
       "      <td>Yes</td>\n",
       "      <td>9323</td>\n",
       "      <td>7873.0</td>\n",
       "      <td>380.0</td>\n",
       "      <td>300.0</td>\n",
       "      <td>1.0</td>\n",
       "      <td>Rural</td>\n",
       "      <td>Y</td>\n",
       "    </tr>\n",
       "    <tr>\n",
       "      <th>402</th>\n",
       "      <td>LP002297</td>\n",
       "      <td>Male</td>\n",
       "      <td>No</td>\n",
       "      <td>0</td>\n",
       "      <td>Graduate</td>\n",
       "      <td>No</td>\n",
       "      <td>2500</td>\n",
       "      <td>20000.0</td>\n",
       "      <td>103.0</td>\n",
       "      <td>360.0</td>\n",
       "      <td>1.0</td>\n",
       "      <td>Semiurban</td>\n",
       "      <td>Y</td>\n",
       "    </tr>\n",
       "    <tr>\n",
       "      <th>417</th>\n",
       "      <td>LP002342</td>\n",
       "      <td>Male</td>\n",
       "      <td>Yes</td>\n",
       "      <td>2</td>\n",
       "      <td>Graduate</td>\n",
       "      <td>Yes</td>\n",
       "      <td>1600</td>\n",
       "      <td>20000.0</td>\n",
       "      <td>239.0</td>\n",
       "      <td>360.0</td>\n",
       "      <td>1.0</td>\n",
       "      <td>Urban</td>\n",
       "      <td>N</td>\n",
       "    </tr>\n",
       "    <tr>\n",
       "      <th>444</th>\n",
       "      <td>LP002424</td>\n",
       "      <td>Male</td>\n",
       "      <td>Yes</td>\n",
       "      <td>0</td>\n",
       "      <td>Graduate</td>\n",
       "      <td>No</td>\n",
       "      <td>7333</td>\n",
       "      <td>8333.0</td>\n",
       "      <td>175.0</td>\n",
       "      <td>300.0</td>\n",
       "      <td>1.0</td>\n",
       "      <td>Rural</td>\n",
       "      <td>Y</td>\n",
       "    </tr>\n",
       "    <tr>\n",
       "      <th>506</th>\n",
       "      <td>LP002624</td>\n",
       "      <td>Male</td>\n",
       "      <td>Yes</td>\n",
       "      <td>0</td>\n",
       "      <td>Graduate</td>\n",
       "      <td>No</td>\n",
       "      <td>20833</td>\n",
       "      <td>6667.0</td>\n",
       "      <td>480.0</td>\n",
       "      <td>360.0</td>\n",
       "      <td>1.0</td>\n",
       "      <td>Urban</td>\n",
       "      <td>Y</td>\n",
       "    </tr>\n",
       "    <tr>\n",
       "      <th>513</th>\n",
       "      <td>LP002648</td>\n",
       "      <td>Male</td>\n",
       "      <td>Yes</td>\n",
       "      <td>0</td>\n",
       "      <td>Graduate</td>\n",
       "      <td>No</td>\n",
       "      <td>2130</td>\n",
       "      <td>6666.0</td>\n",
       "      <td>70.0</td>\n",
       "      <td>180.0</td>\n",
       "      <td>1.0</td>\n",
       "      <td>Semiurban</td>\n",
       "      <td>N</td>\n",
       "    </tr>\n",
       "    <tr>\n",
       "      <th>523</th>\n",
       "      <td>LP002693</td>\n",
       "      <td>Male</td>\n",
       "      <td>Yes</td>\n",
       "      <td>2</td>\n",
       "      <td>Graduate</td>\n",
       "      <td>Yes</td>\n",
       "      <td>7948</td>\n",
       "      <td>7166.0</td>\n",
       "      <td>480.0</td>\n",
       "      <td>360.0</td>\n",
       "      <td>1.0</td>\n",
       "      <td>Rural</td>\n",
       "      <td>Y</td>\n",
       "    </tr>\n",
       "    <tr>\n",
       "      <th>581</th>\n",
       "      <td>LP002893</td>\n",
       "      <td>Male</td>\n",
       "      <td>No</td>\n",
       "      <td>0</td>\n",
       "      <td>Graduate</td>\n",
       "      <td>No</td>\n",
       "      <td>1836</td>\n",
       "      <td>33837.0</td>\n",
       "      <td>90.0</td>\n",
       "      <td>360.0</td>\n",
       "      <td>1.0</td>\n",
       "      <td>Urban</td>\n",
       "      <td>N</td>\n",
       "    </tr>\n",
       "    <tr>\n",
       "      <th>600</th>\n",
       "      <td>LP002949</td>\n",
       "      <td>Female</td>\n",
       "      <td>No</td>\n",
       "      <td>3</td>\n",
       "      <td>Graduate</td>\n",
       "      <td>No</td>\n",
       "      <td>416</td>\n",
       "      <td>41667.0</td>\n",
       "      <td>350.0</td>\n",
       "      <td>180.0</td>\n",
       "      <td>1.0</td>\n",
       "      <td>Urban</td>\n",
       "      <td>N</td>\n",
       "    </tr>\n",
       "  </tbody>\n",
       "</table>\n",
       "</div>"
      ],
      "text/plain": [
       "      Loan_ID  Gender Married  Dependents     Education Self_Employed  \\\n",
       "9    LP001020    Male     Yes           1      Graduate            No   \n",
       "12   LP001028    Male     Yes           2      Graduate            No   \n",
       "38   LP001114    Male      No           0      Graduate            No   \n",
       "122  LP001431  Female      No           0      Graduate            No   \n",
       "135  LP001488    Male     Yes           3      Graduate            No   \n",
       "177  LP001610    Male     Yes           3      Graduate            No   \n",
       "180  LP001633    Male     Yes           1      Graduate            No   \n",
       "253  LP001843    Male     Yes           1  Not Graduate            No   \n",
       "349  LP002138    Male     Yes           0      Graduate            No   \n",
       "372  LP002201    Male     Yes           2      Graduate           Yes   \n",
       "402  LP002297    Male      No           0      Graduate            No   \n",
       "417  LP002342    Male     Yes           2      Graduate           Yes   \n",
       "444  LP002424    Male     Yes           0      Graduate            No   \n",
       "506  LP002624    Male     Yes           0      Graduate            No   \n",
       "513  LP002648    Male     Yes           0      Graduate            No   \n",
       "523  LP002693    Male     Yes           2      Graduate           Yes   \n",
       "581  LP002893    Male      No           0      Graduate            No   \n",
       "600  LP002949  Female      No           3      Graduate            No   \n",
       "\n",
       "     ApplicantIncome  CoapplicantIncome  LoanAmount  Loan_Amount_Term  \\\n",
       "9              12841            10968.0       349.0             360.0   \n",
       "12              3073             8106.0       200.0             360.0   \n",
       "38              4166             7210.0       184.0             360.0   \n",
       "122             2137             8980.0       137.0             360.0   \n",
       "135             4000             7750.0       290.0             360.0   \n",
       "177             5516            11300.0       495.0             360.0   \n",
       "180             6400             7250.0       180.0             360.0   \n",
       "253             2661             7101.0       279.0             180.0   \n",
       "349             2625             6250.0       187.0             360.0   \n",
       "372             9323             7873.0       380.0             300.0   \n",
       "402             2500            20000.0       103.0             360.0   \n",
       "417             1600            20000.0       239.0             360.0   \n",
       "444             7333             8333.0       175.0             300.0   \n",
       "506            20833             6667.0       480.0             360.0   \n",
       "513             2130             6666.0        70.0             180.0   \n",
       "523             7948             7166.0       480.0             360.0   \n",
       "581             1836            33837.0        90.0             360.0   \n",
       "600              416            41667.0       350.0             180.0   \n",
       "\n",
       "     Credit_History Property_Area Loan_Status  \n",
       "9               1.0     Semiurban           N  \n",
       "12              1.0         Urban           Y  \n",
       "38              1.0         Urban           Y  \n",
       "122             0.0     Semiurban           Y  \n",
       "135             1.0     Semiurban           N  \n",
       "177             0.0     Semiurban           N  \n",
       "180             0.0         Urban           N  \n",
       "253             1.0     Semiurban           Y  \n",
       "349             1.0         Rural           Y  \n",
       "372             1.0         Rural           Y  \n",
       "402             1.0     Semiurban           Y  \n",
       "417             1.0         Urban           N  \n",
       "444             1.0         Rural           Y  \n",
       "506             1.0         Urban           Y  \n",
       "513             1.0     Semiurban           N  \n",
       "523             1.0         Rural           Y  \n",
       "581             1.0         Urban           N  \n",
       "600             1.0         Urban           N  "
      ]
     },
     "execution_count": 39,
     "metadata": {},
     "output_type": "execute_result"
    }
   ],
   "source": [
    "#doing IQR range calculation on Co-Applicant Income to detect outliers\n",
    "\n",
    "Q1 = df['CoapplicantIncome'].quantile(0.25)\n",
    "Q3 = df['CoapplicantIncome'].quantile(0.75)\n",
    "IQR = Q3 - Q1\n",
    "lower_bound = Q1 - 1.5 * IQR\n",
    "upper_bound = Q3 + 1.5 * IQR\n",
    "\n",
    "#dataframe containing all outliers of applicant income\n",
    "outliers_iqr_c = df[(df['CoapplicantIncome'] < lower_bound) | (df['CoapplicantIncome'] > upper_bound)]\n",
    "\n",
    "outliers_iqr_c"
   ]
  },
  {
   "cell_type": "code",
   "execution_count": 40,
   "id": "c4c7dbf1-5964-44ea-b2e3-b01e1adf9928",
   "metadata": {
    "tags": []
   },
   "outputs": [
    {
     "data": {
      "text/plain": [
       "'\\nlower_threshold = df[\\'CoapplicantIncome\\'].quantile(0.05)  # 0.1th percentile\\nupper_threshold = df[\\'CoapplicantIncome\\'].quantile(0.95)  # 99.9th percentile\\n\\nprint(f\"0.1st percentile of CoapplicantIncome: {lower_threshold_percentile}\")\\nprint(f\"98th percentile of CoapplicantIncome: {upper_threshold_percentile}\")\\n\\n# Apply capping to \\'CoApplicantIncome\\' using these percentiles\\ndf[\\'CoapplicantIncome_Capped\\'] = df[\\'CoapplicantIncome\\'].clip(lower=lower_threshold_percentile, upper=upper_threshold_percentile)\\n'"
      ]
     },
     "execution_count": 40,
     "metadata": {},
     "output_type": "execute_result"
    }
   ],
   "source": [
    "#calculating thresholds using percentile calculations\n",
    "#example of clipping\n",
    "'''\n",
    "lower_threshold = df['CoapplicantIncome'].quantile(0.05)  # 0.1th percentile\n",
    "upper_threshold = df['CoapplicantIncome'].quantile(0.95)  # 99.9th percentile\n",
    "\n",
    "print(f\"0.1st percentile of CoapplicantIncome: {lower_threshold_percentile}\")\n",
    "print(f\"98th percentile of CoapplicantIncome: {upper_threshold_percentile}\")\n",
    "\n",
    "# Apply capping to 'CoApplicantIncome' using these percentiles\n",
    "df['CoapplicantIncome_Capped'] = df['CoapplicantIncome'].clip(lower=lower_threshold_percentile, upper=upper_threshold_percentile)\n",
    "'''"
   ]
  },
  {
   "cell_type": "markdown",
   "id": "b418e2eb-26f8-411d-9771-713e1c959206",
   "metadata": {
    "tags": []
   },
   "source": [
    "### Loan Amount"
   ]
  },
  {
   "cell_type": "code",
   "execution_count": 41,
   "id": "0b9f1243-e43e-4bc2-830b-562bd8f51a0c",
   "metadata": {
    "tags": []
   },
   "outputs": [
    {
     "data": {
      "text/plain": [
       "<Axes: xlabel='LoanAmount', ylabel='Count'>"
      ]
     },
     "execution_count": 41,
     "metadata": {},
     "output_type": "execute_result"
    },
    {
     "data": {
      "image/png": "[encoded data removed]",
      "text/plain": [
       "<Figure size 640x480 with 1 Axes>"
      ]
     },
     "metadata": {},
     "output_type": "display_data"
    }
   ],
   "source": [
    "sns.histplot(x='LoanAmount', data=df, kde=True)"
   ]
  },
  {
   "cell_type": "code",
   "execution_count": 42,
   "id": "027aa958-73f1-4adb-acca-37ada875dca0",
   "metadata": {
    "tags": []
   },
   "outputs": [
    {
     "data": {
      "text/plain": [
       "(41, 13)"
      ]
     },
     "execution_count": 42,
     "metadata": {},
     "output_type": "execute_result"
    }
   ],
   "source": [
    "#doing IQR range calculation on Loan Amount to detect outliers\n",
    "\n",
    "Q1 = df['LoanAmount'].quantile(0.25)\n",
    "Q3 = df['LoanAmount'].quantile(0.75)\n",
    "IQR = Q3 - Q1\n",
    "lower_bound = Q1 - 1.5 * IQR\n",
    "upper_bound = Q3 + 1.5 * IQR\n",
    "\n",
    "#dataframe containing all outliers of applicant income\n",
    "outliers_iqr_l = df[(df['LoanAmount'] < lower_bound) | (df['LoanAmount'] > upper_bound)]\n",
    "\n",
    "#6% data is outlier - shape(41,13)\n",
    "outliers_iqr_l.shape"
   ]
  },
  {
   "cell_type": "code",
   "execution_count": 43,
   "id": "a6f6c57b-47eb-40e0-9d00-c2b949242f76",
   "metadata": {
    "tags": []
   },
   "outputs": [
    {
     "data": {
      "text/plain": [
       "<Axes: xlabel='LoanAmount', ylabel='Count'>"
      ]
     },
     "execution_count": 43,
     "metadata": {},
     "output_type": "execute_result"
    },
    {
     "data": {
      "image/png": "[encoded data removed]",
      "text/plain": [
       "<Figure size 640x480 with 1 Axes>"
      ]
     },
     "metadata": {},
     "output_type": "display_data"
    }
   ],
   "source": [
    "#displaying outliers\n",
    "\n",
    "sns.histplot(x='LoanAmount', data=outliers_iqr_l)\n"
   ]
  },
  {
   "cell_type": "markdown",
   "id": "716e7de2-577a-4508-8cd1-97e60e7f8f8f",
   "metadata": {
    "tags": []
   },
   "source": [
    "# Categorical encoding"
   ]
  },
  {
   "cell_type": "code",
   "execution_count": 44,
   "id": "2fa68a25-1835-479f-bcee-34cf8b0cb2fe",
   "metadata": {
    "tags": []
   },
   "outputs": [],
   "source": [
    "#drop Loan_ID Column - just an identifier\n",
    "df.drop('Loan_ID', axis=1, inplace=True)"
   ]
  },
  {
   "cell_type": "code",
   "execution_count": 45,
   "id": "5ddb10ae-95a9-48d8-93f7-909d2e51fbe9",
   "metadata": {},
   "outputs": [],
   "source": [
    "from sklearn.preprocessing import LabelEncoder\n",
    "\n",
    "# List of categorical columns to label encode\n",
    "categorical_cols_label_encode = ['Loan_Status', 'Gender', 'Married', 'Self_Employed', 'Education', 'Property_Area']\n",
    "\n",
    "# Initialize LabelEncoder\n",
    "label_encoder = LabelEncoder()\n",
    "\n",
    "# Loop through the categorical columns and apply LabelEncoder\n",
    "for col in categorical_cols_label_encode:\n",
    "    df[col + '_Encoded'] = label_encoder.fit_transform(df[col])\n",
    "    \n",
    "\n",
    "# --- One-Hot Encoding for 'Loan_Amount_Term' ---\n",
    "df = pd.get_dummies(df, columns=['Loan_Amount_Term'], drop_first=True, dtype=int)\n",
    "\n",
    "\n",
    "# --- Note on original columns ---\n",
    "#  to drop the original categorical columns after encoding if they are no longer needed.\n",
    "for col in categorical_cols_label_encode:\n",
    "    df.drop(col, axis=1, inplace=True)"
   ]
  },
  {
   "cell_type": "code",
   "execution_count": 46,
   "id": "60071001-dd0b-454b-9e9b-2c81cdc16dda",
   "metadata": {
    "tags": []
   },
   "outputs": [
    {
     "data": {
      "text/html": [
       "<div>\n",
       "<style scoped>\n",
       "    .dataframe tbody tr th:only-of-type {\n",
       "        vertical-align: middle;\n",
       "    }\n",
       "\n",
       "    .dataframe tbody tr th {\n",
       "        vertical-align: top;\n",
       "    }\n",
       "\n",
       "    .dataframe thead th {\n",
       "        text-align: right;\n",
       "    }\n",
       "</style>\n",
       "<table border=\"1\" class=\"dataframe\">\n",
       "  <thead>\n",
       "    <tr style=\"text-align: right;\">\n",
       "      <th></th>\n",
       "      <th>Dependents</th>\n",
       "      <th>ApplicantIncome</th>\n",
       "      <th>CoapplicantIncome</th>\n",
       "      <th>LoanAmount</th>\n",
       "      <th>Credit_History</th>\n",
       "      <th>Loan_Status_Encoded</th>\n",
       "      <th>Gender_Encoded</th>\n",
       "      <th>Married_Encoded</th>\n",
       "      <th>Self_Employed_Encoded</th>\n",
       "      <th>Education_Encoded</th>\n",
       "      <th>Property_Area_Encoded</th>\n",
       "      <th>Loan_Amount_Term_36.0</th>\n",
       "      <th>Loan_Amount_Term_60.0</th>\n",
       "      <th>Loan_Amount_Term_84.0</th>\n",
       "      <th>Loan_Amount_Term_120.0</th>\n",
       "      <th>Loan_Amount_Term_180.0</th>\n",
       "      <th>Loan_Amount_Term_240.0</th>\n",
       "      <th>Loan_Amount_Term_300.0</th>\n",
       "      <th>Loan_Amount_Term_360.0</th>\n",
       "      <th>Loan_Amount_Term_480.0</th>\n",
       "    </tr>\n",
       "  </thead>\n",
       "  <tbody>\n",
       "    <tr>\n",
       "      <th>0</th>\n",
       "      <td>0</td>\n",
       "      <td>5849</td>\n",
       "      <td>0.0</td>\n",
       "      <td>128.0</td>\n",
       "      <td>1.0</td>\n",
       "      <td>1</td>\n",
       "      <td>1</td>\n",
       "      <td>0</td>\n",
       "      <td>0</td>\n",
       "      <td>0</td>\n",
       "      <td>2</td>\n",
       "      <td>0</td>\n",
       "      <td>0</td>\n",
       "      <td>0</td>\n",
       "      <td>0</td>\n",
       "      <td>0</td>\n",
       "      <td>0</td>\n",
       "      <td>0</td>\n",
       "      <td>1</td>\n",
       "      <td>0</td>\n",
       "    </tr>\n",
       "    <tr>\n",
       "      <th>1</th>\n",
       "      <td>1</td>\n",
       "      <td>4583</td>\n",
       "      <td>1508.0</td>\n",
       "      <td>128.0</td>\n",
       "      <td>1.0</td>\n",
       "      <td>0</td>\n",
       "      <td>1</td>\n",
       "      <td>1</td>\n",
       "      <td>0</td>\n",
       "      <td>0</td>\n",
       "      <td>0</td>\n",
       "      <td>0</td>\n",
       "      <td>0</td>\n",
       "      <td>0</td>\n",
       "      <td>0</td>\n",
       "      <td>0</td>\n",
       "      <td>0</td>\n",
       "      <td>0</td>\n",
       "      <td>1</td>\n",
       "      <td>0</td>\n",
       "    </tr>\n",
       "    <tr>\n",
       "      <th>2</th>\n",
       "      <td>0</td>\n",
       "      <td>3000</td>\n",
       "      <td>0.0</td>\n",
       "      <td>66.0</td>\n",
       "      <td>1.0</td>\n",
       "      <td>1</td>\n",
       "      <td>1</td>\n",
       "      <td>1</td>\n",
       "      <td>1</td>\n",
       "      <td>0</td>\n",
       "      <td>2</td>\n",
       "      <td>0</td>\n",
       "      <td>0</td>\n",
       "      <td>0</td>\n",
       "      <td>0</td>\n",
       "      <td>0</td>\n",
       "      <td>0</td>\n",
       "      <td>0</td>\n",
       "      <td>1</td>\n",
       "      <td>0</td>\n",
       "    </tr>\n",
       "    <tr>\n",
       "      <th>3</th>\n",
       "      <td>0</td>\n",
       "      <td>2583</td>\n",
       "      <td>2358.0</td>\n",
       "      <td>120.0</td>\n",
       "      <td>1.0</td>\n",
       "      <td>1</td>\n",
       "      <td>1</td>\n",
       "      <td>1</td>\n",
       "      <td>0</td>\n",
       "      <td>1</td>\n",
       "      <td>2</td>\n",
       "      <td>0</td>\n",
       "      <td>0</td>\n",
       "      <td>0</td>\n",
       "      <td>0</td>\n",
       "      <td>0</td>\n",
       "      <td>0</td>\n",
       "      <td>0</td>\n",
       "      <td>1</td>\n",
       "      <td>0</td>\n",
       "    </tr>\n",
       "    <tr>\n",
       "      <th>4</th>\n",
       "      <td>0</td>\n",
       "      <td>6000</td>\n",
       "      <td>0.0</td>\n",
       "      <td>141.0</td>\n",
       "      <td>1.0</td>\n",
       "      <td>1</td>\n",
       "      <td>1</td>\n",
       "      <td>0</td>\n",
       "      <td>0</td>\n",
       "      <td>0</td>\n",
       "      <td>2</td>\n",
       "      <td>0</td>\n",
       "      <td>0</td>\n",
       "      <td>0</td>\n",
       "      <td>0</td>\n",
       "      <td>0</td>\n",
       "      <td>0</td>\n",
       "      <td>0</td>\n",
       "      <td>1</td>\n",
       "      <td>0</td>\n",
       "    </tr>\n",
       "  </tbody>\n",
       "</table>\n",
       "</div>"
      ],
      "text/plain": [
       "   Dependents  ApplicantIncome  CoapplicantIncome  LoanAmount  Credit_History  \\\n",
       "0           0             5849                0.0       128.0             1.0   \n",
       "1           1             4583             1508.0       128.0             1.0   \n",
       "2           0             3000                0.0        66.0             1.0   \n",
       "3           0             2583             2358.0       120.0             1.0   \n",
       "4           0             6000                0.0       141.0             1.0   \n",
       "\n",
       "   Loan_Status_Encoded  Gender_Encoded  Married_Encoded  \\\n",
       "0                    1               1                0   \n",
       "1                    0               1                1   \n",
       "2                    1               1                1   \n",
       "3                    1               1                1   \n",
       "4                    1               1                0   \n",
       "\n",
       "   Self_Employed_Encoded  Education_Encoded  Property_Area_Encoded  \\\n",
       "0                      0                  0                      2   \n",
       "1                      0                  0                      0   \n",
       "2                      1                  0                      2   \n",
       "3                      0                  1                      2   \n",
       "4                      0                  0                      2   \n",
       "\n",
       "   Loan_Amount_Term_36.0  Loan_Amount_Term_60.0  Loan_Amount_Term_84.0  \\\n",
       "0                      0                      0                      0   \n",
       "1                      0                      0                      0   \n",
       "2                      0                      0                      0   \n",
       "3                      0                      0                      0   \n",
       "4                      0                      0                      0   \n",
       "\n",
       "   Loan_Amount_Term_120.0  Loan_Amount_Term_180.0  Loan_Amount_Term_240.0  \\\n",
       "0                       0                       0                       0   \n",
       "1                       0                       0                       0   \n",
       "2                       0                       0                       0   \n",
       "3                       0                       0                       0   \n",
       "4                       0                       0                       0   \n",
       "\n",
       "   Loan_Amount_Term_300.0  Loan_Amount_Term_360.0  Loan_Amount_Term_480.0  \n",
       "0                       0                       1                       0  \n",
       "1                       0                       1                       0  \n",
       "2                       0                       1                       0  \n",
       "3                       0                       1                       0  \n",
       "4                       0                       1                       0  "
      ]
     },
     "execution_count": 46,
     "metadata": {},
     "output_type": "execute_result"
    }
   ],
   "source": [
    "df.head()"
   ]
  },
  {
   "cell_type": "code",
   "execution_count": 47,
   "id": "6e839984-0879-4b1a-9a2d-cad559904f6b",
   "metadata": {
    "tags": []
   },
   "outputs": [
    {
     "name": "stdout",
     "output_type": "stream",
     "text": [
      "<class 'pandas.core.frame.DataFrame'>\n",
      "RangeIndex: 614 entries, 0 to 613\n",
      "Data columns (total 20 columns):\n",
      " #   Column                  Non-Null Count  Dtype  \n",
      "---  ------                  --------------  -----  \n",
      " 0   Dependents              614 non-null    Int64  \n",
      " 1   ApplicantIncome         614 non-null    int64  \n",
      " 2   CoapplicantIncome       614 non-null    float64\n",
      " 3   LoanAmount              614 non-null    float64\n",
      " 4   Credit_History          614 non-null    float64\n",
      " 5   Loan_Status_Encoded     614 non-null    int32  \n",
      " 6   Gender_Encoded          614 non-null    int32  \n",
      " 7   Married_Encoded         614 non-null    int32  \n",
      " 8   Self_Employed_Encoded   614 non-null    int32  \n",
      " 9   Education_Encoded       614 non-null    int32  \n",
      " 10  Property_Area_Encoded   614 non-null    int32  \n",
      " 11  Loan_Amount_Term_36.0   614 non-null    int32  \n",
      " 12  Loan_Amount_Term_60.0   614 non-null    int32  \n",
      " 13  Loan_Amount_Term_84.0   614 non-null    int32  \n",
      " 14  Loan_Amount_Term_120.0  614 non-null    int32  \n",
      " 15  Loan_Amount_Term_180.0  614 non-null    int32  \n",
      " 16  Loan_Amount_Term_240.0  614 non-null    int32  \n",
      " 17  Loan_Amount_Term_300.0  614 non-null    int32  \n",
      " 18  Loan_Amount_Term_360.0  614 non-null    int32  \n",
      " 19  Loan_Amount_Term_480.0  614 non-null    int32  \n",
      "dtypes: Int64(1), float64(3), int32(15), int64(1)\n",
      "memory usage: 60.7 KB\n"
     ]
    }
   ],
   "source": [
    "df.info()"
   ]
  },
  {
   "cell_type": "markdown",
   "id": "a71a21a0-de68-4f3f-b7a9-e9b83b01ac8e",
   "metadata": {},
   "source": [
    "# 4 . Feature Scaling & Transformation "
   ]
  },
  {
   "cell_type": "markdown",
   "id": "94a75a80-1c90-43b0-92ad-35f9449d3354",
   "metadata": {},
   "source": [
    "### 🔧 Feature Scaling & Transformation Strategy\n",
    "\n",
    "## Transformation & Scaling Methods: Impact on Skewness & Outliers\n",
    "\n",
    "**Transformation Methods:**\n",
    "\n",
    "* **Log Transformation:**\n",
    "    * **Skewness:** Primarily used to reduce right skewness (positive skew). Compresses higher values more than lower values.\n",
    "    * **Outliers:** Can reduce the impact of high positive outliers by bringing them closer to the rest of the data. Not effective for left skew or negative outliers. Requires positive data (add a constant if needed).\n",
    "\n",
    "* **Power Transformation (Box-Cox, Yeo-Johnson):**\n",
    "    * **Skewness:** A family of transformations that can address both positive and negative skewness by finding the optimal power to make the data more normally distributed. Yeo-Johnson can handle zero and negative values.\n",
    "    * **Outliers:** Can reduce the influence of outliers by transforming the data distribution. The effectiveness depends on the chosen power parameter.\n",
    "\n",
    "* **Square Root Transformation:**\n",
    "    * **Skewness:** Effective for reducing moderate right skewness. Less aggressive than the log transformation.\n",
    "    * **Outliers:** Reduces the impact of high positive outliers, but less so than the log transformation. Requires non-negative data.\n",
    "\n",
    "**Scaling Methods:**\n",
    "\n",
    "* **Standard Scaling (Z-score):**\n",
    "    * **Skewness:** Does not change the shape of the distribution, so it doesn't affect skewness. Centers the data around zero.\n",
    "    * **Outliers:** Sensitive to outliers as mean and standard deviation are affected by them. Outliers will remain outliers in terms of Z-score.\n",
    "\n",
    "* **Min-Max Scaling (Normalization):**\n",
    "    * **Skewness:** Does not change the shape of the distribution, so it doesn't affect skewness. Scales data to a fixed range (typically \\[0, 1]).\n",
    "    * **Outliers:** Highly sensitive to outliers. Outliers can compress the majority of the data into a very small range.\n",
    "\n",
    "* **Robust Scaling (using Median and IQR):**\n",
    "    * **Skewness:** Does not fundamentally change the shape or skewness of the data.\n",
    "    * **Outliers:** Less sensitive to outliers compared to Standard and Min-Max scaling because it uses the median and Interquartile Range (IQR), which are robust to extreme values. Can help to bring the scaled values of typical data points closer together when outliers are present.\n",
    "\n",
    "\n",
    "- **`ApplicantIncome`** , **`LoanAmount`** and **`CoapplicantIncome`** were:\n",
    "  - Transformed using **`log1p`** to reduce **right skewness** and stabilize variance.\n",
    "  - Then scaled using **`StandardScaler`** to normalize the distribution (mean = 0, std = 1), which is beneficial for many machine learning models that assume normally distributed input features.\n",
    "\n"
   ]
  },
  {
   "cell_type": "markdown",
   "id": "722cc840-976b-4dc8-9c74-a2d0c7233320",
   "metadata": {
    "tags": []
   },
   "source": [
    "### Column - ApplicantIncome"
   ]
  },
  {
   "cell_type": "code",
   "execution_count": 48,
   "id": "81dc8235-1dfa-4bed-ba0c-471ca59de206",
   "metadata": {
    "tags": []
   },
   "outputs": [
    {
     "data": {
      "image/png": "[encoded data removed]",
      "text/plain": [
       "<Figure size 800x600 with 1 Axes>"
      ]
     },
     "metadata": {},
     "output_type": "display_data"
    }
   ],
   "source": [
    "plt.figure(figsize=(8,6))\n",
    "sns.histplot(x='ApplicantIncome', data=df, kde=True)\n",
    "plt.show()"
   ]
  },
  {
   "cell_type": "code",
   "execution_count": 49,
   "id": "381570bf-77bc-4eb2-84a1-d8f98c2c39fa",
   "metadata": {
    "tags": []
   },
   "outputs": [
    {
     "data": {
      "text/plain": [
       "<Axes: xlabel='ApplicantIncome'>"
      ]
     },
     "execution_count": 49,
     "metadata": {},
     "output_type": "execute_result"
    },
    {
     "data": {
      "image/png": "[encoded data removed]",
      "text/plain": [
       "<Figure size 640x480 with 1 Axes>"
      ]
     },
     "metadata": {},
     "output_type": "display_data"
    }
   ],
   "source": [
    "sns.boxplot(x='ApplicantIncome', data=df)"
   ]
  },
  {
   "cell_type": "code",
   "execution_count": 50,
   "id": "cf8b7618-f796-43e4-9db5-beb4a57e260f",
   "metadata": {
    "tags": []
   },
   "outputs": [
    {
     "data": {
      "text/plain": [
       "6.539513113994625"
      ]
     },
     "execution_count": 50,
     "metadata": {},
     "output_type": "execute_result"
    }
   ],
   "source": [
    "df['ApplicantIncome'].skew()\n"
   ]
  },
  {
   "cell_type": "code",
   "execution_count": 51,
   "id": "a3e86419-3565-4bad-a0b0-bd8d8f3725ee",
   "metadata": {
    "tags": []
   },
   "outputs": [
    {
     "data": {
      "text/plain": [
       "0      0.516186\n",
       "1      0.137806\n",
       "2     -0.519479\n",
       "3     -0.751605\n",
       "4      0.555727\n",
       "         ...   \n",
       "609   -0.572062\n",
       "610   -0.032679\n",
       "611    1.015921\n",
       "612    0.918972\n",
       "613    0.137806\n",
       "Name: scaled_ApplicantIncome, Length: 614, dtype: float64"
      ]
     },
     "execution_count": 51,
     "metadata": {},
     "output_type": "execute_result"
    }
   ],
   "source": [
    "from sklearn.preprocessing import StandardScaler\n",
    "\n",
    "# Step 1: Log transformation\n",
    "df['ApplicantIncome_log'] = np.log1p(df['ApplicantIncome'])\n",
    "\n",
    "# Step 2: Standard scaling\n",
    "scaler = StandardScaler()\n",
    "df['scaled_ApplicantIncome'] = scaler.fit_transform(df[['ApplicantIncome_log']])\n",
    "df['scaled_ApplicantIncome'] "
   ]
  },
  {
   "cell_type": "code",
   "execution_count": 52,
   "id": "9cdd0a1b-d729-42bd-a475-89e6eccc7c89",
   "metadata": {
    "tags": []
   },
   "outputs": [
    {
     "data": {
      "text/plain": [
       "<Axes: xlabel='scaled_ApplicantIncome', ylabel='Count'>"
      ]
     },
     "execution_count": 52,
     "metadata": {},
     "output_type": "execute_result"
    },
    {
     "data": {
      "image/png": "[encoded data removed]",
      "text/plain": [
       "<Figure size 640x480 with 1 Axes>"
      ]
     },
     "metadata": {},
     "output_type": "display_data"
    }
   ],
   "source": [
    "sns.histplot(x='scaled_ApplicantIncome', data=df, kde=True)"
   ]
  },
  {
   "cell_type": "code",
   "execution_count": 53,
   "id": "96c017f4-05f4-428c-b11f-ea5966220cb7",
   "metadata": {
    "tags": []
   },
   "outputs": [
    {
     "data": {
      "text/plain": [
       "0.4821279953732788"
      ]
     },
     "execution_count": 53,
     "metadata": {},
     "output_type": "execute_result"
    }
   ],
   "source": [
    "df['scaled_ApplicantIncome'].skew()"
   ]
  },
  {
   "cell_type": "markdown",
   "id": "dcc427ff-314a-4bdc-b01e-c7a8cc1b5242",
   "metadata": {},
   "source": [
    "### column - CoapplicantIncome"
   ]
  },
  {
   "cell_type": "code",
   "execution_count": 54,
   "id": "16331f14-88bc-4280-94dc-7091f15982c6",
   "metadata": {
    "tags": []
   },
   "outputs": [
    {
     "data": {
      "text/plain": [
       "<Axes: xlabel='CoapplicantIncome', ylabel='Count'>"
      ]
     },
     "execution_count": 54,
     "metadata": {},
     "output_type": "execute_result"
    },
    {
     "data": {
      "image/png": "[encoded data removed]",
      "text/plain": [
       "<Figure size 640x480 with 1 Axes>"
      ]
     },
     "metadata": {},
     "output_type": "display_data"
    }
   ],
   "source": [
    "sns.histplot(x='CoapplicantIncome', data=df, kde=True)"
   ]
  },
  {
   "cell_type": "code",
   "execution_count": 55,
   "id": "ff618b60-b76f-46fd-b604-0d4e2d0d3323",
   "metadata": {
    "tags": []
   },
   "outputs": [
    {
     "data": {
      "text/plain": [
       "<Axes: xlabel='CoapplicantIncome'>"
      ]
     },
     "execution_count": 55,
     "metadata": {},
     "output_type": "execute_result"
    },
    {
     "data": {
      "image/png": "[encoded data removed]",
      "text/plain": [
       "<Figure size 640x480 with 1 Axes>"
      ]
     },
     "metadata": {},
     "output_type": "display_data"
    }
   ],
   "source": [
    "sns.boxplot(x='CoapplicantIncome', data=df)"
   ]
  },
  {
   "cell_type": "code",
   "execution_count": 56,
   "id": "330ae341-31d9-4968-8049-dd39b57afd1d",
   "metadata": {
    "tags": []
   },
   "outputs": [
    {
     "data": {
      "text/plain": [
       "7.491531216657306"
      ]
     },
     "execution_count": 56,
     "metadata": {},
     "output_type": "execute_result"
    }
   ],
   "source": [
    "df['CoapplicantIncome'].skew()"
   ]
  },
  {
   "cell_type": "code",
   "execution_count": 57,
   "id": "8551e762-ea08-4796-a44d-dd91ae9e9638",
   "metadata": {
    "tags": []
   },
   "outputs": [],
   "source": [
    "from sklearn.preprocessing import RobustScaler\n",
    "# Highly skewed data\n",
    "# have outliers\n",
    "\n",
    "\n",
    "#applying log\n",
    "df['log_CoapplicantIncome'] = np.log1p(df['CoapplicantIncome'])\n",
    "\n",
    "# apply standard scaling\n",
    "df['scaled_CoapplicantIncome'] = scaler.fit_transform(df[['log_CoapplicantIncome']])"
   ]
  },
  {
   "cell_type": "code",
   "execution_count": 58,
   "id": "09d65939-7da1-4bf7-a5ac-25170718d2dc",
   "metadata": {
    "tags": []
   },
   "outputs": [
    {
     "data": {
      "text/plain": [
       "<Axes: xlabel='scaled_CoapplicantIncome', ylabel='Count'>"
      ]
     },
     "execution_count": 58,
     "metadata": {},
     "output_type": "execute_result"
    },
    {
     "data": {
      "image/png": "[encoded data removed]",
      "text/plain": [
       "<Figure size 640x480 with 1 Axes>"
      ]
     },
     "metadata": {},
     "output_type": "display_data"
    }
   ],
   "source": [
    "sns.histplot(x='scaled_CoapplicantIncome', data=df, kde=True)"
   ]
  },
  {
   "cell_type": "code",
   "execution_count": 59,
   "id": "3133982b-b045-48e6-8642-f8205e47050a",
   "metadata": {
    "tags": []
   },
   "outputs": [
    {
     "data": {
      "text/plain": [
       "-0.1730732759923096"
      ]
     },
     "execution_count": 59,
     "metadata": {},
     "output_type": "execute_result"
    }
   ],
   "source": [
    "df['scaled_CoapplicantIncome'].skew()"
   ]
  },
  {
   "cell_type": "markdown",
   "id": "2cfaa7a6-9859-406b-8119-41d9643a890d",
   "metadata": {},
   "source": [
    "### Column - LoanAmount"
   ]
  },
  {
   "cell_type": "code",
   "execution_count": 60,
   "id": "6b553c60-be25-4453-a4cc-8c2e7c4601a8",
   "metadata": {
    "tags": []
   },
   "outputs": [
    {
     "data": {
      "text/plain": [
       "<Axes: xlabel='LoanAmount', ylabel='Count'>"
      ]
     },
     "execution_count": 60,
     "metadata": {},
     "output_type": "execute_result"
    },
    {
     "data": {
      "image/png": "[encoded data removed]",
      "text/plain": [
       "<Figure size 640x480 with 1 Axes>"
      ]
     },
     "metadata": {},
     "output_type": "display_data"
    }
   ],
   "source": [
    "sns.histplot(x='LoanAmount', data=df, kde=True)"
   ]
  },
  {
   "cell_type": "code",
   "execution_count": 61,
   "id": "fd7c0d0f-25a2-4d45-8431-f37b1985a30e",
   "metadata": {
    "tags": []
   },
   "outputs": [
    {
     "data": {
      "text/plain": [
       "<Axes: xlabel='LoanAmount'>"
      ]
     },
     "execution_count": 61,
     "metadata": {},
     "output_type": "execute_result"
    },
    {
     "data": {
      "image/png": "[encoded data removed]",
      "text/plain": [
       "<Figure size 640x480 with 1 Axes>"
      ]
     },
     "metadata": {},
     "output_type": "display_data"
    }
   ],
   "source": [
    "sns.boxplot(x='LoanAmount', data=df)"
   ]
  },
  {
   "cell_type": "code",
   "execution_count": 62,
   "id": "903701d4-6d1e-4ac8-a612-9363a4710fc3",
   "metadata": {
    "tags": []
   },
   "outputs": [
    {
     "data": {
      "text/plain": [
       "2.743052748820892"
      ]
     },
     "execution_count": 62,
     "metadata": {},
     "output_type": "execute_result"
    }
   ],
   "source": [
    "df['LoanAmount'].skew()"
   ]
  },
  {
   "cell_type": "code",
   "execution_count": 63,
   "id": "19264a27-ec1a-43c1-9380-7ab75b5f6137",
   "metadata": {
    "tags": []
   },
   "outputs": [],
   "source": [
    "# right skewed data\n",
    "# has outliers\n",
    "# same approach as ApplicantIncome\n",
    "\n",
    "df['LoanAmount_log']= np.log1p(df['LoanAmount'])\n",
    "df['scaled_LoanAmount'] = scaler.fit_transform(df[['LoanAmount_log']])"
   ]
  },
  {
   "cell_type": "code",
   "execution_count": 64,
   "id": "6d359f4f-605d-4752-9d9c-7355dfff264f",
   "metadata": {
    "tags": []
   },
   "outputs": [
    {
     "data": {
      "text/html": [
       "<div>\n",
       "<style scoped>\n",
       "    .dataframe tbody tr th:only-of-type {\n",
       "        vertical-align: middle;\n",
       "    }\n",
       "\n",
       "    .dataframe tbody tr th {\n",
       "        vertical-align: top;\n",
       "    }\n",
       "\n",
       "    .dataframe thead th {\n",
       "        text-align: right;\n",
       "    }\n",
       "</style>\n",
       "<table border=\"1\" class=\"dataframe\">\n",
       "  <thead>\n",
       "    <tr style=\"text-align: right;\">\n",
       "      <th></th>\n",
       "      <th>Dependents</th>\n",
       "      <th>ApplicantIncome</th>\n",
       "      <th>CoapplicantIncome</th>\n",
       "      <th>LoanAmount</th>\n",
       "      <th>Credit_History</th>\n",
       "      <th>Loan_Status_Encoded</th>\n",
       "      <th>Gender_Encoded</th>\n",
       "      <th>Married_Encoded</th>\n",
       "      <th>Self_Employed_Encoded</th>\n",
       "      <th>Education_Encoded</th>\n",
       "      <th>...</th>\n",
       "      <th>Loan_Amount_Term_240.0</th>\n",
       "      <th>Loan_Amount_Term_300.0</th>\n",
       "      <th>Loan_Amount_Term_360.0</th>\n",
       "      <th>Loan_Amount_Term_480.0</th>\n",
       "      <th>ApplicantIncome_log</th>\n",
       "      <th>scaled_ApplicantIncome</th>\n",
       "      <th>Sqrt_CoapplicantIncome</th>\n",
       "      <th>scaled_CoapplicantIncome</th>\n",
       "      <th>LoanAmount_log</th>\n",
       "      <th>scaled_LoanAmount</th>\n",
       "    </tr>\n",
       "  </thead>\n",
       "  <tbody>\n",
       "    <tr>\n",
       "      <th>0</th>\n",
       "      <td>0</td>\n",
       "      <td>5849</td>\n",
       "      <td>0.0</td>\n",
       "      <td>128.0</td>\n",
       "      <td>1.0</td>\n",
       "      <td>1</td>\n",
       "      <td>1</td>\n",
       "      <td>0</td>\n",
       "      <td>0</td>\n",
       "      <td>0</td>\n",
       "      <td>...</td>\n",
       "      <td>0</td>\n",
       "      <td>0</td>\n",
       "      <td>1</td>\n",
       "      <td>0</td>\n",
       "      <td>8.674197</td>\n",
       "      <td>0.516186</td>\n",
       "      <td>0.000000</td>\n",
       "      <td>-1.107783</td>\n",
       "      <td>4.859812</td>\n",
       "      <td>-0.012803</td>\n",
       "    </tr>\n",
       "    <tr>\n",
       "      <th>1</th>\n",
       "      <td>1</td>\n",
       "      <td>4583</td>\n",
       "      <td>1508.0</td>\n",
       "      <td>128.0</td>\n",
       "      <td>1.0</td>\n",
       "      <td>0</td>\n",
       "      <td>1</td>\n",
       "      <td>1</td>\n",
       "      <td>0</td>\n",
       "      <td>0</td>\n",
       "      <td>...</td>\n",
       "      <td>0</td>\n",
       "      <td>0</td>\n",
       "      <td>1</td>\n",
       "      <td>0</td>\n",
       "      <td>8.430327</td>\n",
       "      <td>0.137806</td>\n",
       "      <td>7.319202</td>\n",
       "      <td>0.782158</td>\n",
       "      <td>4.859812</td>\n",
       "      <td>-0.012803</td>\n",
       "    </tr>\n",
       "    <tr>\n",
       "      <th>2</th>\n",
       "      <td>0</td>\n",
       "      <td>3000</td>\n",
       "      <td>0.0</td>\n",
       "      <td>66.0</td>\n",
       "      <td>1.0</td>\n",
       "      <td>1</td>\n",
       "      <td>1</td>\n",
       "      <td>1</td>\n",
       "      <td>1</td>\n",
       "      <td>0</td>\n",
       "      <td>...</td>\n",
       "      <td>0</td>\n",
       "      <td>0</td>\n",
       "      <td>1</td>\n",
       "      <td>0</td>\n",
       "      <td>8.006701</td>\n",
       "      <td>-0.519479</td>\n",
       "      <td>0.000000</td>\n",
       "      <td>-1.107783</td>\n",
       "      <td>4.204693</td>\n",
       "      <td>-1.348663</td>\n",
       "    </tr>\n",
       "    <tr>\n",
       "      <th>3</th>\n",
       "      <td>0</td>\n",
       "      <td>2583</td>\n",
       "      <td>2358.0</td>\n",
       "      <td>120.0</td>\n",
       "      <td>1.0</td>\n",
       "      <td>1</td>\n",
       "      <td>1</td>\n",
       "      <td>1</td>\n",
       "      <td>0</td>\n",
       "      <td>1</td>\n",
       "      <td>...</td>\n",
       "      <td>0</td>\n",
       "      <td>0</td>\n",
       "      <td>1</td>\n",
       "      <td>0</td>\n",
       "      <td>7.857094</td>\n",
       "      <td>-0.751605</td>\n",
       "      <td>7.765993</td>\n",
       "      <td>0.897526</td>\n",
       "      <td>4.795791</td>\n",
       "      <td>-0.143351</td>\n",
       "    </tr>\n",
       "    <tr>\n",
       "      <th>4</th>\n",
       "      <td>0</td>\n",
       "      <td>6000</td>\n",
       "      <td>0.0</td>\n",
       "      <td>141.0</td>\n",
       "      <td>1.0</td>\n",
       "      <td>1</td>\n",
       "      <td>1</td>\n",
       "      <td>0</td>\n",
       "      <td>0</td>\n",
       "      <td>0</td>\n",
       "      <td>...</td>\n",
       "      <td>0</td>\n",
       "      <td>0</td>\n",
       "      <td>1</td>\n",
       "      <td>0</td>\n",
       "      <td>8.699681</td>\n",
       "      <td>0.555727</td>\n",
       "      <td>0.000000</td>\n",
       "      <td>-1.107783</td>\n",
       "      <td>4.955827</td>\n",
       "      <td>0.182981</td>\n",
       "    </tr>\n",
       "  </tbody>\n",
       "</table>\n",
       "<p>5 rows × 26 columns</p>\n",
       "</div>"
      ],
      "text/plain": [
       "   Dependents  ApplicantIncome  CoapplicantIncome  LoanAmount  Credit_History  \\\n",
       "0           0             5849                0.0       128.0             1.0   \n",
       "1           1             4583             1508.0       128.0             1.0   \n",
       "2           0             3000                0.0        66.0             1.0   \n",
       "3           0             2583             2358.0       120.0             1.0   \n",
       "4           0             6000                0.0       141.0             1.0   \n",
       "\n",
       "   Loan_Status_Encoded  Gender_Encoded  Married_Encoded  \\\n",
       "0                    1               1                0   \n",
       "1                    0               1                1   \n",
       "2                    1               1                1   \n",
       "3                    1               1                1   \n",
       "4                    1               1                0   \n",
       "\n",
       "   Self_Employed_Encoded  Education_Encoded  ...  Loan_Amount_Term_240.0  \\\n",
       "0                      0                  0  ...                       0   \n",
       "1                      0                  0  ...                       0   \n",
       "2                      1                  0  ...                       0   \n",
       "3                      0                  1  ...                       0   \n",
       "4                      0                  0  ...                       0   \n",
       "\n",
       "   Loan_Amount_Term_300.0  Loan_Amount_Term_360.0  Loan_Amount_Term_480.0  \\\n",
       "0                       0                       1                       0   \n",
       "1                       0                       1                       0   \n",
       "2                       0                       1                       0   \n",
       "3                       0                       1                       0   \n",
       "4                       0                       1                       0   \n",
       "\n",
       "   ApplicantIncome_log  scaled_ApplicantIncome  Sqrt_CoapplicantIncome  \\\n",
       "0             8.674197                0.516186                0.000000   \n",
       "1             8.430327                0.137806                7.319202   \n",
       "2             8.006701               -0.519479                0.000000   \n",
       "3             7.857094               -0.751605                7.765993   \n",
       "4             8.699681                0.555727                0.000000   \n",
       "\n",
       "   scaled_CoapplicantIncome  LoanAmount_log  scaled_LoanAmount  \n",
       "0                 -1.107783        4.859812          -0.012803  \n",
       "1                  0.782158        4.859812          -0.012803  \n",
       "2                 -1.107783        4.204693          -1.348663  \n",
       "3                  0.897526        4.795791          -0.143351  \n",
       "4                 -1.107783        4.955827           0.182981  \n",
       "\n",
       "[5 rows x 26 columns]"
      ]
     },
     "execution_count": 64,
     "metadata": {},
     "output_type": "execute_result"
    }
   ],
   "source": [
    "df.head()"
   ]
  },
  {
   "cell_type": "code",
   "execution_count": 65,
   "id": "786847a2-fef5-402d-a3fe-c763c0dab05f",
   "metadata": {
    "tags": []
   },
   "outputs": [
    {
     "data": {
      "text/plain": [
       "<Axes: xlabel='scaled_LoanAmount', ylabel='Count'>"
      ]
     },
     "execution_count": 65,
     "metadata": {},
     "output_type": "execute_result"
    },
    {
     "data": {
      "image/png": "[encoded data removed]",
      "text/plain": [
       "<Figure size 640x480 with 1 Axes>"
      ]
     },
     "metadata": {},
     "output_type": "display_data"
    }
   ],
   "source": [
    "sns.histplot(x='scaled_LoanAmount', data=df, kde=True)"
   ]
  },
  {
   "cell_type": "code",
   "execution_count": 66,
   "id": "f1601cfa-c5bb-424b-9456-1224318472a4",
   "metadata": {},
   "outputs": [
    {
     "data": {
      "text/plain": [
       "-0.15157750539614148"
      ]
     },
     "execution_count": 66,
     "metadata": {},
     "output_type": "execute_result"
    }
   ],
   "source": [
    "df['scaled_LoanAmount'].skew()"
   ]
  },
  {
   "cell_type": "code",
   "execution_count": 68,
   "id": "34c74c6d-7411-4d71-bcba-f96ec00a6468",
   "metadata": {},
   "outputs": [
    {
     "data": {
      "text/html": [
       "<div>\n",
       "<style scoped>\n",
       "    .dataframe tbody tr th:only-of-type {\n",
       "        vertical-align: middle;\n",
       "    }\n",
       "\n",
       "    .dataframe tbody tr th {\n",
       "        vertical-align: top;\n",
       "    }\n",
       "\n",
       "    .dataframe thead th {\n",
       "        text-align: right;\n",
       "    }\n",
       "</style>\n",
       "<table border=\"1\" class=\"dataframe\">\n",
       "  <thead>\n",
       "    <tr style=\"text-align: right;\">\n",
       "      <th></th>\n",
       "      <th>Dependents</th>\n",
       "      <th>ApplicantIncome</th>\n",
       "      <th>CoapplicantIncome</th>\n",
       "      <th>LoanAmount</th>\n",
       "      <th>Credit_History</th>\n",
       "      <th>Loan_Status_Encoded</th>\n",
       "      <th>Gender_Encoded</th>\n",
       "      <th>Married_Encoded</th>\n",
       "      <th>Self_Employed_Encoded</th>\n",
       "      <th>Education_Encoded</th>\n",
       "      <th>...</th>\n",
       "      <th>Loan_Amount_Term_240.0</th>\n",
       "      <th>Loan_Amount_Term_300.0</th>\n",
       "      <th>Loan_Amount_Term_360.0</th>\n",
       "      <th>Loan_Amount_Term_480.0</th>\n",
       "      <th>ApplicantIncome_log</th>\n",
       "      <th>scaled_ApplicantIncome</th>\n",
       "      <th>Sqrt_CoapplicantIncome</th>\n",
       "      <th>scaled_CoapplicantIncome</th>\n",
       "      <th>LoanAmount_log</th>\n",
       "      <th>scaled_LoanAmount</th>\n",
       "    </tr>\n",
       "  </thead>\n",
       "  <tbody>\n",
       "    <tr>\n",
       "      <th>0</th>\n",
       "      <td>0</td>\n",
       "      <td>5849</td>\n",
       "      <td>0.0</td>\n",
       "      <td>128.0</td>\n",
       "      <td>1.0</td>\n",
       "      <td>1</td>\n",
       "      <td>1</td>\n",
       "      <td>0</td>\n",
       "      <td>0</td>\n",
       "      <td>0</td>\n",
       "      <td>...</td>\n",
       "      <td>0</td>\n",
       "      <td>0</td>\n",
       "      <td>1</td>\n",
       "      <td>0</td>\n",
       "      <td>8.674197</td>\n",
       "      <td>0.516186</td>\n",
       "      <td>0.000000</td>\n",
       "      <td>-1.107783</td>\n",
       "      <td>4.859812</td>\n",
       "      <td>-0.012803</td>\n",
       "    </tr>\n",
       "    <tr>\n",
       "      <th>1</th>\n",
       "      <td>1</td>\n",
       "      <td>4583</td>\n",
       "      <td>1508.0</td>\n",
       "      <td>128.0</td>\n",
       "      <td>1.0</td>\n",
       "      <td>0</td>\n",
       "      <td>1</td>\n",
       "      <td>1</td>\n",
       "      <td>0</td>\n",
       "      <td>0</td>\n",
       "      <td>...</td>\n",
       "      <td>0</td>\n",
       "      <td>0</td>\n",
       "      <td>1</td>\n",
       "      <td>0</td>\n",
       "      <td>8.430327</td>\n",
       "      <td>0.137806</td>\n",
       "      <td>7.319202</td>\n",
       "      <td>0.782158</td>\n",
       "      <td>4.859812</td>\n",
       "      <td>-0.012803</td>\n",
       "    </tr>\n",
       "    <tr>\n",
       "      <th>2</th>\n",
       "      <td>0</td>\n",
       "      <td>3000</td>\n",
       "      <td>0.0</td>\n",
       "      <td>66.0</td>\n",
       "      <td>1.0</td>\n",
       "      <td>1</td>\n",
       "      <td>1</td>\n",
       "      <td>1</td>\n",
       "      <td>1</td>\n",
       "      <td>0</td>\n",
       "      <td>...</td>\n",
       "      <td>0</td>\n",
       "      <td>0</td>\n",
       "      <td>1</td>\n",
       "      <td>0</td>\n",
       "      <td>8.006701</td>\n",
       "      <td>-0.519479</td>\n",
       "      <td>0.000000</td>\n",
       "      <td>-1.107783</td>\n",
       "      <td>4.204693</td>\n",
       "      <td>-1.348663</td>\n",
       "    </tr>\n",
       "    <tr>\n",
       "      <th>3</th>\n",
       "      <td>0</td>\n",
       "      <td>2583</td>\n",
       "      <td>2358.0</td>\n",
       "      <td>120.0</td>\n",
       "      <td>1.0</td>\n",
       "      <td>1</td>\n",
       "      <td>1</td>\n",
       "      <td>1</td>\n",
       "      <td>0</td>\n",
       "      <td>1</td>\n",
       "      <td>...</td>\n",
       "      <td>0</td>\n",
       "      <td>0</td>\n",
       "      <td>1</td>\n",
       "      <td>0</td>\n",
       "      <td>7.857094</td>\n",
       "      <td>-0.751605</td>\n",
       "      <td>7.765993</td>\n",
       "      <td>0.897526</td>\n",
       "      <td>4.795791</td>\n",
       "      <td>-0.143351</td>\n",
       "    </tr>\n",
       "    <tr>\n",
       "      <th>4</th>\n",
       "      <td>0</td>\n",
       "      <td>6000</td>\n",
       "      <td>0.0</td>\n",
       "      <td>141.0</td>\n",
       "      <td>1.0</td>\n",
       "      <td>1</td>\n",
       "      <td>1</td>\n",
       "      <td>0</td>\n",
       "      <td>0</td>\n",
       "      <td>0</td>\n",
       "      <td>...</td>\n",
       "      <td>0</td>\n",
       "      <td>0</td>\n",
       "      <td>1</td>\n",
       "      <td>0</td>\n",
       "      <td>8.699681</td>\n",
       "      <td>0.555727</td>\n",
       "      <td>0.000000</td>\n",
       "      <td>-1.107783</td>\n",
       "      <td>4.955827</td>\n",
       "      <td>0.182981</td>\n",
       "    </tr>\n",
       "  </tbody>\n",
       "</table>\n",
       "<p>5 rows × 26 columns</p>\n",
       "</div>"
      ],
      "text/plain": [
       "   Dependents  ApplicantIncome  CoapplicantIncome  LoanAmount  Credit_History  \\\n",
       "0           0             5849                0.0       128.0             1.0   \n",
       "1           1             4583             1508.0       128.0             1.0   \n",
       "2           0             3000                0.0        66.0             1.0   \n",
       "3           0             2583             2358.0       120.0             1.0   \n",
       "4           0             6000                0.0       141.0             1.0   \n",
       "\n",
       "   Loan_Status_Encoded  Gender_Encoded  Married_Encoded  \\\n",
       "0                    1               1                0   \n",
       "1                    0               1                1   \n",
       "2                    1               1                1   \n",
       "3                    1               1                1   \n",
       "4                    1               1                0   \n",
       "\n",
       "   Self_Employed_Encoded  Education_Encoded  ...  Loan_Amount_Term_240.0  \\\n",
       "0                      0                  0  ...                       0   \n",
       "1                      0                  0  ...                       0   \n",
       "2                      1                  0  ...                       0   \n",
       "3                      0                  1  ...                       0   \n",
       "4                      0                  0  ...                       0   \n",
       "\n",
       "   Loan_Amount_Term_300.0  Loan_Amount_Term_360.0  Loan_Amount_Term_480.0  \\\n",
       "0                       0                       1                       0   \n",
       "1                       0                       1                       0   \n",
       "2                       0                       1                       0   \n",
       "3                       0                       1                       0   \n",
       "4                       0                       1                       0   \n",
       "\n",
       "   ApplicantIncome_log  scaled_ApplicantIncome  Sqrt_CoapplicantIncome  \\\n",
       "0             8.674197                0.516186                0.000000   \n",
       "1             8.430327                0.137806                7.319202   \n",
       "2             8.006701               -0.519479                0.000000   \n",
       "3             7.857094               -0.751605                7.765993   \n",
       "4             8.699681                0.555727                0.000000   \n",
       "\n",
       "   scaled_CoapplicantIncome  LoanAmount_log  scaled_LoanAmount  \n",
       "0                 -1.107783        4.859812          -0.012803  \n",
       "1                  0.782158        4.859812          -0.012803  \n",
       "2                 -1.107783        4.204693          -1.348663  \n",
       "3                  0.897526        4.795791          -0.143351  \n",
       "4                 -1.107783        4.955827           0.182981  \n",
       "\n",
       "[5 rows x 26 columns]"
      ]
     },
     "execution_count": 68,
     "metadata": {},
     "output_type": "execute_result"
    }
   ],
   "source": [
    "df.head()"
   ]
  },
  {
   "cell_type": "code",
   "execution_count": null,
   "id": "5d240d5f-8fdb-4aef-8fee-d5cae8fef2a3",
   "metadata": {},
   "outputs": [],
   "source": [
    "#cleanup\n",
    "\n",
    "columns_to_drop = ['ApplicantIncome_log', 'log_CoapplicantIncome', 'LoanAmount_log']"
   ]
  }
 ],
 "metadata": {
  "kernelspec": {
   "display_name": "Python 3 (ipykernel)",
   "language": "python",
   "name": "python3"
  },
  "language_info": {
   "codemirror_mode": {
    "name": "ipython",
    "version": 3
   },
   "file_extension": ".py",
   "mimetype": "text/x-python",
   "name": "python",
   "nbconvert_exporter": "python",
   "pygments_lexer": "ipython3",
   "version": "3.11.2"
  }
 },
 "nbformat": 4,
 "nbformat_minor": 5
}
